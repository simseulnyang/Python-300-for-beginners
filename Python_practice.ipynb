{
  "nbformat": 4,
  "nbformat_minor": 0,
  "metadata": {
    "colab": {
      "provenance": [],
      "authorship_tag": "ABX9TyMWcyaSsSuT4cnLCn9cCXYH",
      "include_colab_link": true
    },
    "kernelspec": {
      "name": "python3",
      "display_name": "Python 3"
    },
    "language_info": {
      "name": "python"
    }
  },
  "cells": [
    {
      "cell_type": "markdown",
      "metadata": {
        "id": "view-in-github",
        "colab_type": "text"
      },
      "source": [
        "<a href=\"https://colab.research.google.com/github/simseulnyang/Python-300-for-beginners/blob/main/Python_practice.ipynb\" target=\"_parent\"><img src=\"https://colab.research.google.com/assets/colab-badge.svg\" alt=\"Open In Colab\"/></a>"
      ]
    },
    {
      "cell_type": "markdown",
      "source": [
        "# 초보자를 위한 파이썬 300제\n"
      ],
      "metadata": {
        "id": "16ucXAVYsy0s"
      }
    },
    {
      "cell_type": "markdown",
      "source": [
        "## 1번 ~ 10번 : 파이썬 시작하기\n",
        "* print 함수와 관련된 문제를 풀어봅시다."
      ],
      "metadata": {
        "id": "yRM4zgzQv_hx"
      }
    },
    {
      "cell_type": "code",
      "source": [
        "# 1번 화면에 Hello World 문자열을 출력하세요\n",
        "\n",
        "print('Hello World')"
      ],
      "metadata": {
        "colab": {
          "base_uri": "https://localhost:8080/"
        },
        "id": "58ZuWSyfs7Nm",
        "outputId": "f9cdecd4-15a6-4f3b-f781-abb38da4131c"
      },
      "execution_count": null,
      "outputs": [
        {
          "output_type": "stream",
          "name": "stdout",
          "text": [
            "Hello World\n"
          ]
        }
      ]
    },
    {
      "cell_type": "code",
      "source": [
        "# 2번 화면에 Mary's cosmetics을 출력하세요. (중간에 '가 있음에 주의하세요)\n",
        "\n",
        "print(\"Mary's cosmetics\")"
      ],
      "metadata": {
        "colab": {
          "base_uri": "https://localhost:8080/"
        },
        "id": "T5H8l5GNtJaN",
        "outputId": "02988435-abd7-4b6a-9d9d-7121f17ac31c"
      },
      "execution_count": null,
      "outputs": [
        {
          "output_type": "stream",
          "name": "stdout",
          "text": [
            "Mary's cosmetics\n"
          ]
        }
      ]
    },
    {
      "cell_type": "code",
      "source": [
        "# 3번 화면에 아래 문장을 출력하세요. (중간에 \"가 있음에 주의하세요.)\n",
        "# 신씨가 소리질렀다. \"도둑이야\".\n",
        "\n",
        "print('신씨가 소리질렀다. \"도둑이야\".')"
      ],
      "metadata": {
        "colab": {
          "base_uri": "https://localhost:8080/"
        },
        "id": "BowU22-ttS4I",
        "outputId": "950d2832-69b5-4234-ba89-913bf900677a"
      },
      "execution_count": null,
      "outputs": [
        {
          "output_type": "stream",
          "name": "stdout",
          "text": [
            "신씨가 소리질렀다. \"도둑이야\".\n"
          ]
        }
      ]
    },
    {
      "cell_type": "code",
      "source": [
        "# 4번 화면에 \"C:\\Windows\"를 출력하세요.\n",
        "\n",
        "print('\"C:\\Windows\"')"
      ],
      "metadata": {
        "colab": {
          "base_uri": "https://localhost:8080/"
        },
        "id": "CZXrUaQUtd-2",
        "outputId": "5ad8caed-2c26-4035-f9d8-d010ad4ad1f3"
      },
      "execution_count": null,
      "outputs": [
        {
          "output_type": "stream",
          "name": "stdout",
          "text": [
            "\"C:\\Windows\"\n"
          ]
        }
      ]
    },
    {
      "cell_type": "code",
      "source": [
        " # 5번 다음 코드를 실행해보고 \\t와 \\n의 역할을 설명해보세요.\n",
        " # print(\"안녕하세요.\\n만나서\\t\\t반갑습니다.\")\n",
        "\n",
        " # \\n -> 줄바꿈\n",
        " # \\t -> tab"
      ],
      "metadata": {
        "id": "1LSy0qIwtuSd"
      },
      "execution_count": null,
      "outputs": []
    },
    {
      "cell_type": "code",
      "source": [
        "# 6번 print 함수에 두 개의 단어를 입력한 예제입니다. 아래 코드의 출력 결과를 예상해봅시다.\n",
        "# print (\"오늘은\", \"일요일\")\n",
        "\n",
        "print(\"오늘은\", \"일요일\") # 오늘은 다음에 공백이 하나 있고, 일요일이 출력됨"
      ],
      "metadata": {
        "colab": {
          "base_uri": "https://localhost:8080/"
        },
        "id": "Nhsl9haAt-wO",
        "outputId": "b5ef3feb-0655-4fff-a109-dd47fe0e1143"
      },
      "execution_count": null,
      "outputs": [
        {
          "output_type": "stream",
          "name": "stdout",
          "text": [
            "오늘은 일요일\n"
          ]
        }
      ]
    },
    {
      "cell_type": "code",
      "source": [
        "# 7번 print() 함수를 사용하여 다음과 같이 출력하세요.\n",
        "# naver;kakao;sk;samsung\n",
        "\n",
        "print(('naver kakao sk samsung').replace(' ', ';'))\n",
        "\n",
        "#정답\n",
        "print('naver', 'kakao', 'sk', 'samsung', sep=';')"
      ],
      "metadata": {
        "colab": {
          "base_uri": "https://localhost:8080/"
        },
        "id": "h8qbPiARuRih",
        "outputId": "d1489ef4-9509-4e3c-dec5-698154ab3bb9"
      },
      "execution_count": null,
      "outputs": [
        {
          "output_type": "stream",
          "name": "stdout",
          "text": [
            "naver;kakao;sk;samsung\n",
            "naver;kakao;sk;samsung\n"
          ]
        }
      ]
    },
    {
      "cell_type": "code",
      "source": [
        "# 8번 print() 함수를 사용하여 다음과 같이 출력하세요.\n",
        "# naver/kakao/sk/samsung\n",
        "\n",
        "print('naver', 'kakao', 'sk', 'samsung', sep='/')"
      ],
      "metadata": {
        "colab": {
          "base_uri": "https://localhost:8080/"
        },
        "id": "9ShfJEwAvLZm",
        "outputId": "c093b017-0c2b-435a-885a-72effcc1d97b"
      },
      "execution_count": null,
      "outputs": [
        {
          "output_type": "stream",
          "name": "stdout",
          "text": [
            "naver/kakao/sk/samsung\n"
          ]
        }
      ]
    },
    {
      "cell_type": "code",
      "source": [
        "# 9번 다음 코드를 수정하여 줄바꿈이 없이 출력하세요. \n",
        "# (힌트: end='') print 함수는 두 번 사용합니다. \n",
        "#                세미콜론 (;)은 한줄에 여러 개의 명령을 작성하기 위해 사용합니다.\n",
        "#print(\"first\");print(\"second\")\n",
        "\n",
        "print(\"first\", end=' ');print(\"second\")"
      ],
      "metadata": {
        "colab": {
          "base_uri": "https://localhost:8080/"
        },
        "id": "9N0b5L_9vYrW",
        "outputId": "9d7d00d1-f9c1-4d9d-a911-79a424353410"
      },
      "execution_count": null,
      "outputs": [
        {
          "output_type": "stream",
          "name": "stdout",
          "text": [
            "first second\n"
          ]
        }
      ]
    },
    {
      "cell_type": "code",
      "source": [
        "# 10번 5/3의 결과를 화면에 출력하세요.\n",
        "print(5/3)"
      ],
      "metadata": {
        "colab": {
          "base_uri": "https://localhost:8080/"
        },
        "id": "olLlHEBPv1E-",
        "outputId": "f835b25e-c036-45ef-e5f1-8ebfd425fcef"
      },
      "execution_count": null,
      "outputs": [
        {
          "output_type": "stream",
          "name": "stdout",
          "text": [
            "1.6666666666666667\n"
          ]
        }
      ]
    },
    {
      "cell_type": "markdown",
      "source": [
        "## 11번 ~ 20번 : 파이썬 변수\n",
        "* 파이썬 변수는 자주 사용되는 값을 바인딩합니다. \n",
        "* 파이썬 변수의 개념을 이해하고 문제를 풀어봅시다."
      ],
      "metadata": {
        "id": "4Nulq3CgwLSV"
      }
    },
    {
      "cell_type": "code",
      "source": [
        "# 11번 삼성전자라는 변수로 50,000원을 바인딩해보세요. \n",
        "# 삼성전자 주식 10주를 보유하고 있을 때 총 평가금액을 출력하세요.\n",
        "\n",
        "삼성전자 = 50000\n",
        "보유주식 = 10\n",
        "총_평가금액 = 삼성전자 * 보유주식\n",
        "\n",
        "print(총_평가금액)"
      ],
      "metadata": {
        "colab": {
          "base_uri": "https://localhost:8080/"
        },
        "id": "ZafbF--rwSWG",
        "outputId": "27b86da4-93c4-40bc-90a9-a53b4bb429f1"
      },
      "execution_count": null,
      "outputs": [
        {
          "output_type": "stream",
          "name": "stdout",
          "text": [
            "500000\n"
          ]
        }
      ]
    },
    {
      "cell_type": "code",
      "source": [
        "# 12번 변수를 사용해서 시가총액, 현재가, PER 등을 바인딩해보세요.\n",
        "\n",
        "시가총액 = 298000000000000\n",
        "현재가 = 50000\n",
        "PER = 15.79\n",
        "\n",
        "print(시가총액, type(시가총액))\n",
        "print(현재가, type(현재가))\n",
        "print(PER, type(PER))"
      ],
      "metadata": {
        "colab": {
          "base_uri": "https://localhost:8080/"
        },
        "id": "sT8BBRaWwaVv",
        "outputId": "022a7033-3cf2-4178-f6b0-9f5788b21c77"
      },
      "execution_count": null,
      "outputs": [
        {
          "output_type": "stream",
          "name": "stdout",
          "text": [
            "298000000000000 <class 'int'>\n",
            "50000 <class 'int'>\n",
            "15.79 <class 'float'>\n"
          ]
        }
      ]
    },
    {
      "cell_type": "code",
      "source": [
        "# 13번 두 변수를 이용하여 아래와 같이 출력해보세요. (s = 'hello', t = 'python')\n",
        "# 실행 예: hello! python\n",
        "\n",
        "s = 'hello'\n",
        "t = 'python'\n",
        "\n",
        "print(s + '! ' + t)\n",
        "print(s + '!', t)"
      ],
      "metadata": {
        "colab": {
          "base_uri": "https://localhost:8080/"
        },
        "id": "32dyLnS9wad1",
        "outputId": "49ca966a-9480-4e3a-db55-e55a9cd3ef1a"
      },
      "execution_count": null,
      "outputs": [
        {
          "output_type": "stream",
          "name": "stdout",
          "text": [
            "hello! python\n",
            "hello! python\n"
          ]
        }
      ]
    },
    {
      "cell_type": "code",
      "source": [
        "# 14번 아래 코드의 실행 결과를 예상해보세요.\n",
        "# >> 2 + 2 * 3 \n",
        "\n",
        "8"
      ],
      "metadata": {
        "colab": {
          "base_uri": "https://localhost:8080/"
        },
        "id": "x2FV2UV0wajZ",
        "outputId": "ef442d6b-346f-49f3-c092-a6be333d9310"
      },
      "execution_count": null,
      "outputs": [
        {
          "output_type": "execute_result",
          "data": {
            "text/plain": [
              "8"
            ]
          },
          "metadata": {},
          "execution_count": 22
        }
      ]
    },
    {
      "cell_type": "code",
      "source": [
        "# 15번 type() 함수는 데이터 타입을 판별합니다. \n",
        "# 변수 a에는 128 숫자가 바인딩돼 있어 type 함수가 int (정수)형임을 알려줍니다.\n",
        "\n",
        "'''\n",
        ">> a = 128\n",
        ">> print (type(a))\n",
        "<class 'int'>\n",
        "'''\n",
        "\n",
        "# 아래 변수에 바인딩된 값의 타입을 판별해보세요.\n",
        "a = \"132\"\n",
        "\n",
        "print(type(a))"
      ],
      "metadata": {
        "colab": {
          "base_uri": "https://localhost:8080/"
        },
        "id": "W1a-gHUuwan7",
        "outputId": "94aaf500-2e87-43fe-99f8-a44583865510"
      },
      "execution_count": null,
      "outputs": [
        {
          "output_type": "stream",
          "name": "stdout",
          "text": [
            "<class 'str'>\n"
          ]
        }
      ]
    },
    {
      "cell_type": "code",
      "source": [
        "# 16번 문자열 '720'를 정수형으로 변환해보세요.\n",
        "\n",
        "num_str = \"720\"\n",
        "\n",
        "a = int(num_str)\n",
        "print(a, type(a))"
      ],
      "metadata": {
        "colab": {
          "base_uri": "https://localhost:8080/"
        },
        "id": "PSueQgrKwar8",
        "outputId": "7cf8cb94-b051-403a-b590-e37c7b816ba9"
      },
      "execution_count": null,
      "outputs": [
        {
          "output_type": "stream",
          "name": "stdout",
          "text": [
            "720 <class 'int'>\n"
          ]
        }
      ]
    },
    {
      "cell_type": "code",
      "source": [
        "# 17번 정수 100을 문자열 '100'으로 변환해보세요.\n",
        "\n",
        "num = 100\n",
        "\n",
        "num_str = str(num)\n",
        "print(num_str, type(num_str))"
      ],
      "metadata": {
        "colab": {
          "base_uri": "https://localhost:8080/"
        },
        "id": "Qa5BJiVdwavz",
        "outputId": "05607d3a-5011-46af-e765-7103a627d664"
      },
      "execution_count": null,
      "outputs": [
        {
          "output_type": "stream",
          "name": "stdout",
          "text": [
            "100 <class 'str'>\n"
          ]
        }
      ]
    },
    {
      "cell_type": "code",
      "source": [
        "# 18번 문자열 \"15.79\"를 실수(float) 타입으로 변환해보세요.\n",
        "\n",
        "a = \"15.79\"\n",
        "\n",
        "b = float(a)\n",
        "print(b, type(b))"
      ],
      "metadata": {
        "colab": {
          "base_uri": "https://localhost:8080/"
        },
        "id": "ZEXPU1_8way8",
        "outputId": "0070706f-db33-41d9-d351-08f7791530ff"
      },
      "execution_count": null,
      "outputs": [
        {
          "output_type": "stream",
          "name": "stdout",
          "text": [
            "15.79 <class 'float'>\n"
          ]
        }
      ]
    },
    {
      "cell_type": "code",
      "source": [
        "# 19번 year라는 변수가 문자열 타입의 연도를 바인딩하고 있습니다. \n",
        "# 이를 정수로 변환한 후 최근 3년의 연도를 화면에 출력해보세요.\n",
        "\n",
        "year = \"2023\"\n",
        "\n",
        "year_int = int(year)\n",
        "print(type(year_int))\n",
        "print(year_int, year_int - 1, year_int - 2)"
      ],
      "metadata": {
        "colab": {
          "base_uri": "https://localhost:8080/"
        },
        "id": "Tha8b4pgwa2F",
        "outputId": "f46564ae-372f-4401-baac-6790858b431e"
      },
      "execution_count": null,
      "outputs": [
        {
          "output_type": "stream",
          "name": "stdout",
          "text": [
            "<class 'int'>\n",
            "2023 2022 2021\n"
          ]
        }
      ]
    },
    {
      "cell_type": "code",
      "source": [
        "# 20번 에이컨이 월 48,584원에 무이자 36개월의 조건으로 홈쇼핑에서 판매되고 있습니다.\n",
        "# 총 금액은 계산한 후 이를 화면에 출력해보세요. (변수사용하기)\n",
        "\n",
        "monthly_cost = 48584\n",
        "months = 36\n",
        "\n",
        "총_금액 = 48584 * 36\n",
        "print(총_금액)"
      ],
      "metadata": {
        "colab": {
          "base_uri": "https://localhost:8080/"
        },
        "id": "rt57cNwFwa5V",
        "outputId": "960b4658-4d43-4248-ed45-d796a01afd8c"
      },
      "execution_count": null,
      "outputs": [
        {
          "output_type": "stream",
          "name": "stdout",
          "text": [
            "1749024\n"
          ]
        }
      ]
    },
    {
      "cell_type": "markdown",
      "source": [
        "## 21번 ~ 50번 : 파이썬 문자열\n",
        "* 파이썬 문자열은 인덱싱, 슬라이싱 기능과 다양한 메서드를 제공합니다."
      ],
      "metadata": {
        "id": "Z4CCZXst8K07"
      }
    },
    {
      "cell_type": "code",
      "source": [
        "# 21번 letters가 바인딩하는 문자열에서 첫번째와 세번째 문자를 출력하세요.\n",
        "letters = 'python'\n",
        "\n",
        "print(letters[0], letters[2])"
      ],
      "metadata": {
        "id": "SiGeFNLdwa8t",
        "colab": {
          "base_uri": "https://localhost:8080/"
        },
        "outputId": "0fa5d843-f69c-47f8-d7e0-75e882b44a47"
      },
      "execution_count": null,
      "outputs": [
        {
          "output_type": "stream",
          "name": "stdout",
          "text": [
            "p t\n"
          ]
        }
      ]
    },
    {
      "cell_type": "code",
      "source": [
        "# 22번 자동차 번호가 다음과 같을 때 뒤에 4자리만 출력하세요.\n",
        "license_plate = \"24가 2210\"\n",
        "\n",
        "print(license_plate[4:])\n",
        "print(license_plate[-4:])"
      ],
      "metadata": {
        "colab": {
          "base_uri": "https://localhost:8080/"
        },
        "id": "6pI3wdX4X7cK",
        "outputId": "08b2dde5-8bc0-4518-bf45-7b2e5085d508"
      },
      "execution_count": null,
      "outputs": [
        {
          "output_type": "stream",
          "name": "stdout",
          "text": [
            "2210\n",
            "2210\n"
          ]
        }
      ]
    },
    {
      "cell_type": "code",
      "source": [
        "# 23번 아래의 문자열에서 '홀' 만 출력하세요.\n",
        "string = \"홀짝홀짝홀짝\"\n",
        "\n",
        "print(string[::2])"
      ],
      "metadata": {
        "colab": {
          "base_uri": "https://localhost:8080/"
        },
        "id": "-jLrIPcsX940",
        "outputId": "45fc6dc4-abb4-4bb3-b932-e958cf86c913"
      },
      "execution_count": null,
      "outputs": [
        {
          "output_type": "stream",
          "name": "stdout",
          "text": [
            "홀홀홀\n"
          ]
        }
      ]
    },
    {
      "cell_type": "code",
      "source": [
        "# 24번 문자열을 거꾸로 뒤집어 출력하세요.\n",
        "string = \"PYTHON\"\n",
        "\n",
        "print(string[::-1])"
      ],
      "metadata": {
        "colab": {
          "base_uri": "https://localhost:8080/"
        },
        "id": "F9mSEXxvX98X",
        "outputId": "fb5a302c-cf5b-482d-feb4-f0663ff597b5"
      },
      "execution_count": null,
      "outputs": [
        {
          "output_type": "stream",
          "name": "stdout",
          "text": [
            "NOHTYP\n"
          ]
        }
      ]
    },
    {
      "cell_type": "code",
      "source": [
        "# 25번 아래의 전화번호에서 하이푼 ('-')을 제거하고 출력하세요.\n",
        "\n",
        "phone_number = \"010-1111-2222\"\n",
        "\n",
        "print(phone_number.replace(\"-\",\" \"))"
      ],
      "metadata": {
        "colab": {
          "base_uri": "https://localhost:8080/"
        },
        "id": "N74K_ZFZX9_j",
        "outputId": "5acc264a-af10-4443-bd13-77dda655a35f"
      },
      "execution_count": null,
      "outputs": [
        {
          "output_type": "stream",
          "name": "stdout",
          "text": [
            "010 1111 2222\n"
          ]
        }
      ]
    },
    {
      "cell_type": "code",
      "source": [
        "# 26번 25번 문제의 전화번호를 모두 붙여 출력하세요. (01011112222)\n",
        "\n",
        "print(phone_number.replace(\"-\",\"\"))"
      ],
      "metadata": {
        "colab": {
          "base_uri": "https://localhost:8080/"
        },
        "id": "5_1GrXelX-CT",
        "outputId": "61d84c9e-da44-46dc-c461-f28495172c48"
      },
      "execution_count": null,
      "outputs": [
        {
          "output_type": "stream",
          "name": "stdout",
          "text": [
            "01011112222\n"
          ]
        }
      ]
    },
    {
      "cell_type": "code",
      "source": [
        "# 27번 url 에 저장된 웹 페이지 주소에서 도메인을 출력하세요. (kr)\n",
        "url = \"http://sharebook.kr\"\n",
        "\n",
        "print(url[-2:])\n",
        "\n",
        "url_split = url.split(\".\")\n",
        "url_split\n",
        "print(url_split[1])"
      ],
      "metadata": {
        "colab": {
          "base_uri": "https://localhost:8080/"
        },
        "id": "TGwUNQ93X-KX",
        "outputId": "8427fb2b-0142-47c1-cbbb-96bd551f5191"
      },
      "execution_count": null,
      "outputs": [
        {
          "output_type": "stream",
          "name": "stdout",
          "text": [
            "kr\n",
            "kr\n"
          ]
        }
      ]
    },
    {
      "cell_type": "code",
      "source": [
        "# 28번 아래 코드의 실행 결과를 예상해보세요.\n",
        "\n",
        "'''\n",
        ">> lang = 'python'\n",
        ">> lang[0] = 'P'\n",
        ">> print(lang)\n",
        "'''\n",
        "# 문자열은 수정할 수 없음. 문자열이 assignment 메서드를 지원하지 않음"
      ],
      "metadata": {
        "colab": {
          "base_uri": "https://localhost:8080/",
          "height": 229
        },
        "id": "6y3JSOQ7X-K-",
        "outputId": "371a0a0c-61c9-48f3-aeca-d8ec22144155"
      },
      "execution_count": null,
      "outputs": [
        {
          "output_type": "error",
          "ename": "TypeError",
          "evalue": "ignored",
          "traceback": [
            "\u001b[0;31m---------------------------------------------------------------------------\u001b[0m",
            "\u001b[0;31mTypeError\u001b[0m                                 Traceback (most recent call last)",
            "\u001b[0;32m<ipython-input-40-2dbb661d646d>\u001b[0m in \u001b[0;36m<cell line: 9>\u001b[0;34m()\u001b[0m\n\u001b[1;32m      7\u001b[0m '''\n\u001b[1;32m      8\u001b[0m \u001b[0mlang\u001b[0m \u001b[0;34m=\u001b[0m \u001b[0;34m'python'\u001b[0m\u001b[0;34m\u001b[0m\u001b[0;34m\u001b[0m\u001b[0m\n\u001b[0;32m----> 9\u001b[0;31m \u001b[0mlang\u001b[0m\u001b[0;34m[\u001b[0m\u001b[0;36m0\u001b[0m\u001b[0;34m]\u001b[0m \u001b[0;34m=\u001b[0m \u001b[0;34m'P'\u001b[0m\u001b[0;34m\u001b[0m\u001b[0;34m\u001b[0m\u001b[0m\n\u001b[0m\u001b[1;32m     10\u001b[0m \u001b[0mprint\u001b[0m\u001b[0;34m(\u001b[0m\u001b[0mlang\u001b[0m\u001b[0;34m)\u001b[0m\u001b[0;34m\u001b[0m\u001b[0;34m\u001b[0m\u001b[0m\n",
            "\u001b[0;31mTypeError\u001b[0m: 'str' object does not support item assignment"
          ]
        }
      ]
    },
    {
      "cell_type": "code",
      "source": [
        "# 29번 아래 문자열에서 소문자 'a'를 대문자 'A'로 변경하세요.\n",
        "string = 'abcdfe2a354a32a'\n",
        "\n",
        "print(string.replace('a','A'))"
      ],
      "metadata": {
        "colab": {
          "base_uri": "https://localhost:8080/",
          "height": 54
        },
        "id": "YGC74LU3X-Le",
        "outputId": "ddf6add9-1c75-4b2a-9b3e-7fd78c33623c"
      },
      "execution_count": null,
      "outputs": [
        {
          "output_type": "stream",
          "name": "stdout",
          "text": [
            "Abcdfe2A354A32A\n"
          ]
        },
        {
          "output_type": "execute_result",
          "data": {
            "text/plain": [
              "'abcdfe2a354a32a'"
            ],
            "application/vnd.google.colaboratory.intrinsic+json": {
              "type": "string"
            }
          },
          "metadata": {},
          "execution_count": 44
        }
      ]
    },
    {
      "cell_type": "code",
      "source": [
        "# 30번 아래 코드의 실행 결과를 예상해보세요.\n",
        "'''\n",
        ">> string = 'abcd'\n",
        ">> string.replace('b', 'B')\n",
        ">> print(string)\n",
        "'''\n",
        "\n",
        "# replace는 원본을 변경시키지 않기 때문에 'abcd'문자열 그대로 출력될 것\n",
        "\n",
        "string = 'abcd'\n",
        "string.replace('b', 'B')\n",
        "print(string)"
      ],
      "metadata": {
        "colab": {
          "base_uri": "https://localhost:8080/"
        },
        "id": "2utXDVQXX-L9",
        "outputId": "dbb8a9e0-5656-4c70-9d4d-a185fda5ad02"
      },
      "execution_count": null,
      "outputs": [
        {
          "output_type": "stream",
          "name": "stdout",
          "text": [
            "abcd\n"
          ]
        }
      ]
    },
    {
      "cell_type": "code",
      "source": [
        "# 31번 아래 코드의 실행 결과를 예상해보세요.\n",
        "'''\n",
        ">> a = \"3\"\n",
        ">> b = \"4\"\n",
        ">> print(a + b)\n",
        "'''\n",
        "\n",
        "# 둘다 str(문자열)이기 때문에 '34'가 출력될 것이다. 덧셈기호는 문자열의 연결을 의미"
      ],
      "metadata": {
        "colab": {
          "base_uri": "https://localhost:8080/"
        },
        "id": "1E_Dn1JGX-Ml",
        "outputId": "f5535cc6-3cb1-46bc-fb9e-cffba04bac39"
      },
      "execution_count": null,
      "outputs": [
        {
          "output_type": "stream",
          "name": "stdout",
          "text": [
            "34\n"
          ]
        }
      ]
    },
    {
      "cell_type": "code",
      "source": [
        "# 32번 아래 코드의 실행 결과를 예상해보세요\n",
        "'''\n",
        ">> print(\"Hi\" * 3)\n",
        "'''\n",
        "\n",
        "# 'HiHiHi' 출력될 것 곱셈기호 및 기호 뒤의 숫자는 문자열의 반복 및 몇회 반복할 지 의미"
      ],
      "metadata": {
        "colab": {
          "base_uri": "https://localhost:8080/"
        },
        "id": "ZEckVaw4X-ND",
        "outputId": "6c11fc09-23f9-40e4-ab40-ebdccd97384d"
      },
      "execution_count": null,
      "outputs": [
        {
          "output_type": "stream",
          "name": "stdout",
          "text": [
            "HiHiHi\n"
          ]
        }
      ]
    },
    {
      "cell_type": "code",
      "source": [
        "# 33번 화면에 '-'를 80개 출력하세요.\n",
        "\n",
        "print('-' * 80)"
      ],
      "metadata": {
        "colab": {
          "base_uri": "https://localhost:8080/"
        },
        "id": "hQ145lMSX-Nt",
        "outputId": "efe0eeb3-2469-4be3-bcd3-f086e05c55c7"
      },
      "execution_count": null,
      "outputs": [
        {
          "output_type": "stream",
          "name": "stdout",
          "text": [
            "--------------------------------------------------------------------------------\n"
          ]
        }
      ]
    },
    {
      "cell_type": "code",
      "source": [
        "# 34번 변수에 다음과 같은 문자열이 바인딩되어 있습니다.\n",
        "\n",
        "t1 = 'python'\n",
        "t2 = 'java'\n",
        "\n",
        "# 변수에 문자열 더하기와 문자열 곱하기를 사용해서 아래와 같이 출력해보세요.\n",
        "'''\n",
        "실행 예:\n",
        "python java python java python java python java\n",
        "'''\n",
        "\n",
        "print((t1 + ' ' + t2 + ' ') * 4)"
      ],
      "metadata": {
        "colab": {
          "base_uri": "https://localhost:8080/"
        },
        "id": "JJosVZiwXD8U",
        "outputId": "a6f9c128-9f42-4c81-e73a-0b4baff9a5c6"
      },
      "execution_count": 3,
      "outputs": [
        {
          "output_type": "stream",
          "name": "stdout",
          "text": [
            "python java python java python java python java \n"
          ]
        }
      ]
    },
    {
      "cell_type": "code",
      "source": [
        "# 35번 변수에 다음과 같이 문자열과 정수가 바인딩되어 있을 때 % formatting을 사용해서 다음과 같이 출력해보세요.\n",
        "\n",
        "name1 = \"김민수\" \n",
        "age1 = 10\n",
        "name2 = \"이철희\"\n",
        "age2 = 13\n",
        "\n",
        "'''\n",
        "이름: 김민수 나이: 10\n",
        "이름: 이철희 나이: 13\n",
        "'''\n",
        "\n",
        "print(f'이름: {name1} 나이: {age1}')\n",
        "print(f'이름: {name2} 나이: {age2}')\n",
        "\n",
        "print('이름: %s 나이: %d' % (name1, age1))\n",
        "print(\"이름: %s 나이: %d\" % (name2, age2))\n",
        "\n",
        "print('이름: {} 나이: {}'.format(name1, age1))\n",
        "print('이름: {} 나이: {}'.format(name2, age2))"
      ],
      "metadata": {
        "id": "BeYkUJ9wX-OW",
        "colab": {
          "base_uri": "https://localhost:8080/"
        },
        "outputId": "4d463654-4e92-4e49-ccad-64dbaa90253a"
      },
      "execution_count": 10,
      "outputs": [
        {
          "output_type": "stream",
          "name": "stdout",
          "text": [
            "이름: 김민수 나이: 10\n",
            "이름: 이철희 나이: 13\n",
            "이름: 김민수 나이: 10\n",
            "이름: 이철희 나이: 13\n",
            "이름: 김민수 나이: 10\n",
            "이름: 이철희 나이: 13\n"
          ]
        }
      ]
    },
    {
      "cell_type": "code",
      "source": [
        "# 36번 문자열의 format( ) 메서드를 사용해서 035번 문제를 다시 풀어보세요."
      ],
      "metadata": {
        "id": "Ducx9x6kX-PG"
      },
      "execution_count": null,
      "outputs": []
    },
    {
      "cell_type": "code",
      "source": [
        "# 37번 파이썬 3.6부터 지원하는 f-string을 사용해서 035번 문제를 다시 풀어보세요."
      ],
      "metadata": {
        "id": "9B89tX-NX-Pk"
      },
      "execution_count": null,
      "outputs": []
    },
    {
      "cell_type": "code",
      "source": [
        "# 38번 삼성전자의 상장주식수가 다음과 같습니다. 컴마를 제거한 후 이를 정수 타입으로 변환해보세요\n",
        "\n",
        "상장주식수 = \"5,969,782,550\"\n",
        "컴마제거 = 상장주식수.replace(',','')\n",
        "타입변환 = int(컴마제거)\n",
        "\n",
        "print(타입변환, type(타입변환))"
      ],
      "metadata": {
        "id": "GLIm8c_yX-QE",
        "colab": {
          "base_uri": "https://localhost:8080/"
        },
        "outputId": "fc1e2a78-d012-4af9-b020-c616c40afc5f"
      },
      "execution_count": 19,
      "outputs": [
        {
          "output_type": "stream",
          "name": "stdout",
          "text": [
            "5969782550 <class 'int'>\n"
          ]
        }
      ]
    },
    {
      "cell_type": "code",
      "source": [
        "# 39번 다음과 같은 문자열에서 '2020/03'만 출력하세요.\n",
        "분기 = \"2020/03(E) (IFRS연결)\"\n",
        "\n",
        "print(분기[:7])"
      ],
      "metadata": {
        "id": "31MNYSUOX-Qq",
        "colab": {
          "base_uri": "https://localhost:8080/"
        },
        "outputId": "a9c27d04-894d-4725-d5a4-a948502f66e2"
      },
      "execution_count": 21,
      "outputs": [
        {
          "output_type": "stream",
          "name": "stdout",
          "text": [
            "2020/03\n"
          ]
        }
      ]
    },
    {
      "cell_type": "code",
      "source": [
        "# 40번 문자열의 좌우의 공백이 있을 때 이를 제거해보세요.\n",
        "\n",
        "data = \"   삼성전자    \"\n",
        "\n",
        "print(data.strip())\n",
        "type(data)"
      ],
      "metadata": {
        "id": "AyGWofr-X-RW",
        "colab": {
          "base_uri": "https://localhost:8080/"
        },
        "outputId": "c6ab81f3-839e-4564-ff10-983aed9704fe"
      },
      "execution_count": 24,
      "outputs": [
        {
          "output_type": "stream",
          "name": "stdout",
          "text": [
            "삼성전자\n"
          ]
        },
        {
          "output_type": "execute_result",
          "data": {
            "text/plain": [
              "str"
            ]
          },
          "metadata": {},
          "execution_count": 24
        }
      ]
    },
    {
      "cell_type": "code",
      "source": [
        "# 41번 다음과 같은 문자열이 있을 때 이를 대문자 BTC_KRW로 변경하세요.\n",
        "\n",
        "ticker = \"btc_krw\"\n",
        "\n",
        "print(ticker.upper())"
      ],
      "metadata": {
        "id": "CSRgDXgyX-R1",
        "colab": {
          "base_uri": "https://localhost:8080/"
        },
        "outputId": "cf1def87-da41-4996-e5d1-da20d1b7e06b"
      },
      "execution_count": 25,
      "outputs": [
        {
          "output_type": "stream",
          "name": "stdout",
          "text": [
            "BTC_KRW\n"
          ]
        }
      ]
    },
    {
      "cell_type": "code",
      "source": [
        "# 42번 다음과 같은 문자열이 있을 때 이를 소문자 btc_krw로 변경하세요.\n",
        "\n",
        "ticker = \"BTC_KRW\"\n",
        "\n",
        "print(ticker.lower())"
      ],
      "metadata": {
        "id": "Yfhc3LJmX-SV",
        "colab": {
          "base_uri": "https://localhost:8080/"
        },
        "outputId": "ba7522a6-f6e9-438e-86dc-b7ee0f00e03e"
      },
      "execution_count": 26,
      "outputs": [
        {
          "output_type": "stream",
          "name": "stdout",
          "text": [
            "btc_krw\n"
          ]
        }
      ]
    },
    {
      "cell_type": "code",
      "source": [
        "# 43번 문자열 'hello'가 있을 때 이를 'Hello'로 변경해보세요.\n",
        "\n",
        "string = 'hello'\n",
        "\n",
        "print(string.capitalize())"
      ],
      "metadata": {
        "id": "h64ZAAv0X-S9",
        "colab": {
          "base_uri": "https://localhost:8080/"
        },
        "outputId": "9e6291c9-c228-423d-cb0f-91a70dc7d1e7"
      },
      "execution_count": 27,
      "outputs": [
        {
          "output_type": "stream",
          "name": "stdout",
          "text": [
            "Hello\n"
          ]
        }
      ]
    },
    {
      "cell_type": "code",
      "source": [
        "# 44번 파일 이름이 문자열로 저장되어 있을 때 endswith 메서드를 사용해서 파일 이름이 'xlsx'로 끝나는지 확인해보세요.\n",
        "\n",
        "file_name = \"보고서.xlsx\"\n",
        "file_name.endswith('xlsx')"
      ],
      "metadata": {
        "id": "1HntLtvHX-Tb",
        "colab": {
          "base_uri": "https://localhost:8080/"
        },
        "outputId": "9b37bf7c-7da1-49a5-8c22-9d166e518ad9"
      },
      "execution_count": 28,
      "outputs": [
        {
          "output_type": "execute_result",
          "data": {
            "text/plain": [
              "True"
            ]
          },
          "metadata": {},
          "execution_count": 28
        }
      ]
    },
    {
      "cell_type": "code",
      "source": [
        "# 45번 파일 이름이 문자열로 저장되어 있을 때 endswith 메서드를 사용해서 파일 이름이 'xlsx' 또는 'xls'로 끝나는지 확인해보세요.\n",
        "\n",
        "file_name = \"보고서.xlsx\"\n",
        "file_name.endswith(('xlsx', 'xls'))"
      ],
      "metadata": {
        "id": "HCKWL6nAX-UA",
        "colab": {
          "base_uri": "https://localhost:8080/"
        },
        "outputId": "11ff6e1d-9227-4386-84b2-98bb8d6c5eba"
      },
      "execution_count": 30,
      "outputs": [
        {
          "output_type": "execute_result",
          "data": {
            "text/plain": [
              "True"
            ]
          },
          "metadata": {},
          "execution_count": 30
        }
      ]
    },
    {
      "cell_type": "code",
      "source": [
        "# 46번 파일 이름이 문자열로 저장되어 있을 때 startswith 메서드를 사용해서 파일 이름이 '2020'로 시작하는지 확인해보세요.\n",
        "\n",
        "file_name = \"2020_보고서.xlsx\"\n",
        "file_name.startswith('2020')"
      ],
      "metadata": {
        "id": "7VVA-HLXX-Uh",
        "colab": {
          "base_uri": "https://localhost:8080/"
        },
        "outputId": "dc5c398c-e6fd-48ff-aad7-ffced6673889"
      },
      "execution_count": 32,
      "outputs": [
        {
          "output_type": "execute_result",
          "data": {
            "text/plain": [
              "True"
            ]
          },
          "metadata": {},
          "execution_count": 32
        }
      ]
    },
    {
      "cell_type": "code",
      "source": [
        "# 47번 다음과 같은 문자열이 있을 때 공백을 기준으로 문자열을 나눠보세요.\n",
        "\n",
        "a = \"hello world\"\n",
        "print(a.split(' '))"
      ],
      "metadata": {
        "id": "RfPu3b71X-VL",
        "colab": {
          "base_uri": "https://localhost:8080/"
        },
        "outputId": "a30aec2f-8be6-44e9-8cc0-111b8926ebe1"
      },
      "execution_count": 33,
      "outputs": [
        {
          "output_type": "stream",
          "name": "stdout",
          "text": [
            "['hello', 'world']\n"
          ]
        }
      ]
    },
    {
      "cell_type": "code",
      "source": [
        "# 48번 다음과 같이 문자열이 있을 때 btc와 krw로 나눠보세요.\n",
        "ticker = \"btc_krw\"\n",
        "print(ticker.split('_'))"
      ],
      "metadata": {
        "id": "oMiP0wmDX-Vs",
        "colab": {
          "base_uri": "https://localhost:8080/"
        },
        "outputId": "df9641f8-5fdc-4a3d-ab9d-d0b85334ab6a"
      },
      "execution_count": 34,
      "outputs": [
        {
          "output_type": "stream",
          "name": "stdout",
          "text": [
            "['btc', 'krw']\n"
          ]
        }
      ]
    },
    {
      "cell_type": "code",
      "source": [
        "# 49번 다음과 같이 날짜를 표현하는 문자열이 있을 때 연도, 월, 일로 나눠보세요.\n",
        "\n",
        "날짜 = \"2020-05-01\"\n",
        "print(날짜.split('-'))"
      ],
      "metadata": {
        "id": "NIjpGarKX-WN",
        "colab": {
          "base_uri": "https://localhost:8080/"
        },
        "outputId": "e530aa8f-ce0d-47b9-b8c5-9239eaf1c742"
      },
      "execution_count": 37,
      "outputs": [
        {
          "output_type": "stream",
          "name": "stdout",
          "text": [
            "['2020', '05', '01']\n"
          ]
        }
      ]
    },
    {
      "cell_type": "code",
      "source": [
        "# 50번 문자열의 오른쪽에 공백이 있을 때 이를 제거해보세요.\n",
        "\n",
        "숫자문자 = \"039490     \"\n",
        "print(숫자문자.rstrip())"
      ],
      "metadata": {
        "id": "KKxB2MLuX-Wr",
        "colab": {
          "base_uri": "https://localhost:8080/"
        },
        "outputId": "6e28e838-4d77-4098-bc0f-6b2f58550be1"
      },
      "execution_count": 39,
      "outputs": [
        {
          "output_type": "stream",
          "name": "stdout",
          "text": [
            "039490\n"
          ]
        }
      ]
    },
    {
      "cell_type": "code",
      "source": [],
      "metadata": {
        "id": "0IKqO3FDX-XJ"
      },
      "execution_count": null,
      "outputs": []
    },
    {
      "cell_type": "code",
      "source": [],
      "metadata": {
        "id": "uIg4e0MwX-Xo"
      },
      "execution_count": null,
      "outputs": []
    },
    {
      "cell_type": "code",
      "source": [],
      "metadata": {
        "id": "9dPKKlDGX-YV"
      },
      "execution_count": null,
      "outputs": []
    },
    {
      "cell_type": "code",
      "source": [],
      "metadata": {
        "id": "IgWGzBERX-Y0"
      },
      "execution_count": null,
      "outputs": []
    }
  ]
}