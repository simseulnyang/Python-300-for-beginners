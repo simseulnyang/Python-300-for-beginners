{
  "nbformat": 4,
  "nbformat_minor": 0,
  "metadata": {
    "colab": {
      "provenance": [],
      "authorship_tag": "ABX9TyMJlsXbvaDMzanUXgaHOg5Y",
      "include_colab_link": true
    },
    "kernelspec": {
      "name": "python3",
      "display_name": "Python 3"
    },
    "language_info": {
      "name": "python"
    }
  },
  "cells": [
    {
      "cell_type": "markdown",
      "metadata": {
        "id": "view-in-github",
        "colab_type": "text"
      },
      "source": [
        "<a href=\"https://colab.research.google.com/github/simseulnyang/Python-300-for-beginners/blob/main/Python_practice.ipynb\" target=\"_parent\"><img src=\"https://colab.research.google.com/assets/colab-badge.svg\" alt=\"Open In Colab\"/></a>"
      ]
    },
    {
      "cell_type": "markdown",
      "source": [
        "# 초보자를 위한 파이썬 300제\n"
      ],
      "metadata": {
        "id": "16ucXAVYsy0s"
      }
    },
    {
      "cell_type": "markdown",
      "source": [
        "## 1번 ~ 10번 : 파이썬 시작하기\n",
        "* print 함수와 관련된 문제를 풀어봅시다."
      ],
      "metadata": {
        "id": "yRM4zgzQv_hx"
      }
    },
    {
      "cell_type": "code",
      "source": [
        "# 1번 화면에 Hello World 문자열을 출력하세요\n",
        "\n",
        "print('Hello World')"
      ],
      "metadata": {
        "colab": {
          "base_uri": "https://localhost:8080/"
        },
        "id": "58ZuWSyfs7Nm",
        "outputId": "f9cdecd4-15a6-4f3b-f781-abb38da4131c"
      },
      "execution_count": null,
      "outputs": [
        {
          "output_type": "stream",
          "name": "stdout",
          "text": [
            "Hello World\n"
          ]
        }
      ]
    },
    {
      "cell_type": "code",
      "source": [
        "# 2번 화면에 Mary's cosmetics을 출력하세요. (중간에 '가 있음에 주의하세요)\n",
        "\n",
        "print(\"Mary's cosmetics\")"
      ],
      "metadata": {
        "colab": {
          "base_uri": "https://localhost:8080/"
        },
        "id": "T5H8l5GNtJaN",
        "outputId": "02988435-abd7-4b6a-9d9d-7121f17ac31c"
      },
      "execution_count": null,
      "outputs": [
        {
          "output_type": "stream",
          "name": "stdout",
          "text": [
            "Mary's cosmetics\n"
          ]
        }
      ]
    },
    {
      "cell_type": "code",
      "source": [
        "# 3번 화면에 아래 문장을 출력하세요. (중간에 \"가 있음에 주의하세요.)\n",
        "# 신씨가 소리질렀다. \"도둑이야\".\n",
        "\n",
        "print('신씨가 소리질렀다. \"도둑이야\".')"
      ],
      "metadata": {
        "colab": {
          "base_uri": "https://localhost:8080/"
        },
        "id": "BowU22-ttS4I",
        "outputId": "950d2832-69b5-4234-ba89-913bf900677a"
      },
      "execution_count": null,
      "outputs": [
        {
          "output_type": "stream",
          "name": "stdout",
          "text": [
            "신씨가 소리질렀다. \"도둑이야\".\n"
          ]
        }
      ]
    },
    {
      "cell_type": "code",
      "source": [
        "# 4번 화면에 \"C:\\Windows\"를 출력하세요.\n",
        "\n",
        "print('\"C:\\Windows\"')"
      ],
      "metadata": {
        "colab": {
          "base_uri": "https://localhost:8080/"
        },
        "id": "CZXrUaQUtd-2",
        "outputId": "5ad8caed-2c26-4035-f9d8-d010ad4ad1f3"
      },
      "execution_count": null,
      "outputs": [
        {
          "output_type": "stream",
          "name": "stdout",
          "text": [
            "\"C:\\Windows\"\n"
          ]
        }
      ]
    },
    {
      "cell_type": "code",
      "source": [
        " # 5번 다음 코드를 실행해보고 \\t와 \\n의 역할을 설명해보세요.\n",
        " # print(\"안녕하세요.\\n만나서\\t\\t반갑습니다.\")\n",
        "\n",
        " # \\n -> 줄바꿈\n",
        " # \\t -> tab"
      ],
      "metadata": {
        "id": "1LSy0qIwtuSd"
      },
      "execution_count": null,
      "outputs": []
    },
    {
      "cell_type": "code",
      "source": [
        "# 6번 print 함수에 두 개의 단어를 입력한 예제입니다. 아래 코드의 출력 결과를 예상해봅시다.\n",
        "# print (\"오늘은\", \"일요일\")\n",
        "\n",
        "print(\"오늘은\", \"일요일\") # 오늘은 다음에 공백이 하나 있고, 일요일이 출력됨"
      ],
      "metadata": {
        "colab": {
          "base_uri": "https://localhost:8080/"
        },
        "id": "Nhsl9haAt-wO",
        "outputId": "b5ef3feb-0655-4fff-a109-dd47fe0e1143"
      },
      "execution_count": null,
      "outputs": [
        {
          "output_type": "stream",
          "name": "stdout",
          "text": [
            "오늘은 일요일\n"
          ]
        }
      ]
    },
    {
      "cell_type": "code",
      "source": [
        "# 7번 print() 함수를 사용하여 다음과 같이 출력하세요.\n",
        "# naver;kakao;sk;samsung\n",
        "\n",
        "print(('naver kakao sk samsung').replace(' ', ';'))\n",
        "\n",
        "#정답\n",
        "print('naver', 'kakao', 'sk', 'samsung', sep=';')"
      ],
      "metadata": {
        "colab": {
          "base_uri": "https://localhost:8080/"
        },
        "id": "h8qbPiARuRih",
        "outputId": "d1489ef4-9509-4e3c-dec5-698154ab3bb9"
      },
      "execution_count": null,
      "outputs": [
        {
          "output_type": "stream",
          "name": "stdout",
          "text": [
            "naver;kakao;sk;samsung\n",
            "naver;kakao;sk;samsung\n"
          ]
        }
      ]
    },
    {
      "cell_type": "code",
      "source": [
        "# 8번 print() 함수를 사용하여 다음과 같이 출력하세요.\n",
        "# naver/kakao/sk/samsung\n",
        "\n",
        "print('naver', 'kakao', 'sk', 'samsung', sep='/')"
      ],
      "metadata": {
        "colab": {
          "base_uri": "https://localhost:8080/"
        },
        "id": "9ShfJEwAvLZm",
        "outputId": "c093b017-0c2b-435a-885a-72effcc1d97b"
      },
      "execution_count": null,
      "outputs": [
        {
          "output_type": "stream",
          "name": "stdout",
          "text": [
            "naver/kakao/sk/samsung\n"
          ]
        }
      ]
    },
    {
      "cell_type": "code",
      "source": [
        "# 9번 다음 코드를 수정하여 줄바꿈이 없이 출력하세요. \n",
        "# (힌트: end='') print 함수는 두 번 사용합니다. \n",
        "#                세미콜론 (;)은 한줄에 여러 개의 명령을 작성하기 위해 사용합니다.\n",
        "#print(\"first\");print(\"second\")\n",
        "\n",
        "print(\"first\", end=' ');print(\"second\")"
      ],
      "metadata": {
        "colab": {
          "base_uri": "https://localhost:8080/"
        },
        "id": "9N0b5L_9vYrW",
        "outputId": "9d7d00d1-f9c1-4d9d-a911-79a424353410"
      },
      "execution_count": null,
      "outputs": [
        {
          "output_type": "stream",
          "name": "stdout",
          "text": [
            "first second\n"
          ]
        }
      ]
    },
    {
      "cell_type": "code",
      "source": [
        "# 10번 5/3의 결과를 화면에 출력하세요.\n",
        "print(5/3)"
      ],
      "metadata": {
        "colab": {
          "base_uri": "https://localhost:8080/"
        },
        "id": "olLlHEBPv1E-",
        "outputId": "f835b25e-c036-45ef-e5f1-8ebfd425fcef"
      },
      "execution_count": null,
      "outputs": [
        {
          "output_type": "stream",
          "name": "stdout",
          "text": [
            "1.6666666666666667\n"
          ]
        }
      ]
    },
    {
      "cell_type": "markdown",
      "source": [
        "## 11번 ~ 20번 : 파이썬 변수\n",
        "* 파이썬 변수는 자주 사용되는 값을 바인딩합니다. \n",
        "* 파이썬 변수의 개념을 이해하고 문제를 풀어봅시다."
      ],
      "metadata": {
        "id": "4Nulq3CgwLSV"
      }
    },
    {
      "cell_type": "code",
      "source": [
        "# 11번 삼성전자라는 변수로 50,000원을 바인딩해보세요. \n",
        "# 삼성전자 주식 10주를 보유하고 있을 때 총 평가금액을 출력하세요.\n",
        "\n",
        "삼성전자 = 50000\n",
        "보유주식 = 10\n",
        "총_평가금액 = 삼성전자 * 보유주식\n",
        "\n",
        "print(총_평가금액)"
      ],
      "metadata": {
        "colab": {
          "base_uri": "https://localhost:8080/"
        },
        "id": "ZafbF--rwSWG",
        "outputId": "27b86da4-93c4-40bc-90a9-a53b4bb429f1"
      },
      "execution_count": null,
      "outputs": [
        {
          "output_type": "stream",
          "name": "stdout",
          "text": [
            "500000\n"
          ]
        }
      ]
    },
    {
      "cell_type": "code",
      "source": [
        "# 12번 변수를 사용해서 시가총액, 현재가, PER 등을 바인딩해보세요.\n",
        "\n",
        "시가총액 = 298000000000000\n",
        "현재가 = 50000\n",
        "PER = 15.79\n",
        "\n",
        "print(시가총액, type(시가총액))\n",
        "print(현재가, type(현재가))\n",
        "print(PER, type(PER))"
      ],
      "metadata": {
        "colab": {
          "base_uri": "https://localhost:8080/"
        },
        "id": "sT8BBRaWwaVv",
        "outputId": "022a7033-3cf2-4178-f6b0-9f5788b21c77"
      },
      "execution_count": null,
      "outputs": [
        {
          "output_type": "stream",
          "name": "stdout",
          "text": [
            "298000000000000 <class 'int'>\n",
            "50000 <class 'int'>\n",
            "15.79 <class 'float'>\n"
          ]
        }
      ]
    },
    {
      "cell_type": "code",
      "source": [
        "# 13번 두 변수를 이용하여 아래와 같이 출력해보세요. (s = 'hello', t = 'python')\n",
        "# 실행 예: hello! python\n",
        "\n",
        "s = 'hello'\n",
        "t = 'python'\n",
        "\n",
        "print(s + '! ' + t)\n",
        "print(s + '!', t)"
      ],
      "metadata": {
        "colab": {
          "base_uri": "https://localhost:8080/"
        },
        "id": "32dyLnS9wad1",
        "outputId": "49ca966a-9480-4e3a-db55-e55a9cd3ef1a"
      },
      "execution_count": null,
      "outputs": [
        {
          "output_type": "stream",
          "name": "stdout",
          "text": [
            "hello! python\n",
            "hello! python\n"
          ]
        }
      ]
    },
    {
      "cell_type": "code",
      "source": [
        "# 14번 아래 코드의 실행 결과를 예상해보세요.\n",
        "# >> 2 + 2 * 3 \n",
        "\n",
        "8"
      ],
      "metadata": {
        "colab": {
          "base_uri": "https://localhost:8080/"
        },
        "id": "x2FV2UV0wajZ",
        "outputId": "ef442d6b-346f-49f3-c092-a6be333d9310"
      },
      "execution_count": null,
      "outputs": [
        {
          "output_type": "execute_result",
          "data": {
            "text/plain": [
              "8"
            ]
          },
          "metadata": {},
          "execution_count": 22
        }
      ]
    },
    {
      "cell_type": "code",
      "source": [
        "# 15번 type() 함수는 데이터 타입을 판별합니다. \n",
        "# 변수 a에는 128 숫자가 바인딩돼 있어 type 함수가 int (정수)형임을 알려줍니다.\n",
        "\n",
        "'''\n",
        ">> a = 128\n",
        ">> print (type(a))\n",
        "<class 'int'>\n",
        "'''\n",
        "\n",
        "# 아래 변수에 바인딩된 값의 타입을 판별해보세요.\n",
        "a = \"132\"\n",
        "\n",
        "print(type(a))"
      ],
      "metadata": {
        "colab": {
          "base_uri": "https://localhost:8080/"
        },
        "id": "W1a-gHUuwan7",
        "outputId": "94aaf500-2e87-43fe-99f8-a44583865510"
      },
      "execution_count": null,
      "outputs": [
        {
          "output_type": "stream",
          "name": "stdout",
          "text": [
            "<class 'str'>\n"
          ]
        }
      ]
    },
    {
      "cell_type": "code",
      "source": [
        "# 16번 문자열 '720'를 정수형으로 변환해보세요.\n",
        "\n",
        "num_str = \"720\"\n",
        "\n",
        "a = int(num_str)\n",
        "print(a, type(a))"
      ],
      "metadata": {
        "colab": {
          "base_uri": "https://localhost:8080/"
        },
        "id": "PSueQgrKwar8",
        "outputId": "7cf8cb94-b051-403a-b590-e37c7b816ba9"
      },
      "execution_count": null,
      "outputs": [
        {
          "output_type": "stream",
          "name": "stdout",
          "text": [
            "720 <class 'int'>\n"
          ]
        }
      ]
    },
    {
      "cell_type": "code",
      "source": [
        "# 17번 정수 100을 문자열 '100'으로 변환해보세요.\n",
        "\n",
        "num = 100\n",
        "\n",
        "num_str = str(num)\n",
        "print(num_str, type(num_str))"
      ],
      "metadata": {
        "colab": {
          "base_uri": "https://localhost:8080/"
        },
        "id": "Qa5BJiVdwavz",
        "outputId": "05607d3a-5011-46af-e765-7103a627d664"
      },
      "execution_count": null,
      "outputs": [
        {
          "output_type": "stream",
          "name": "stdout",
          "text": [
            "100 <class 'str'>\n"
          ]
        }
      ]
    },
    {
      "cell_type": "code",
      "source": [
        "# 18번 문자열 \"15.79\"를 실수(float) 타입으로 변환해보세요.\n",
        "\n",
        "a = \"15.79\"\n",
        "\n",
        "b = float(a)\n",
        "print(b, type(b))"
      ],
      "metadata": {
        "colab": {
          "base_uri": "https://localhost:8080/"
        },
        "id": "ZEXPU1_8way8",
        "outputId": "0070706f-db33-41d9-d351-08f7791530ff"
      },
      "execution_count": null,
      "outputs": [
        {
          "output_type": "stream",
          "name": "stdout",
          "text": [
            "15.79 <class 'float'>\n"
          ]
        }
      ]
    },
    {
      "cell_type": "code",
      "source": [
        "# 19번 year라는 변수가 문자열 타입의 연도를 바인딩하고 있습니다. \n",
        "# 이를 정수로 변환한 후 최근 3년의 연도를 화면에 출력해보세요.\n",
        "\n",
        "year = \"2023\"\n",
        "\n",
        "year_int = int(year)\n",
        "print(type(year_int))\n",
        "print(year_int, year_int - 1, year_int - 2)"
      ],
      "metadata": {
        "colab": {
          "base_uri": "https://localhost:8080/"
        },
        "id": "Tha8b4pgwa2F",
        "outputId": "f46564ae-372f-4401-baac-6790858b431e"
      },
      "execution_count": null,
      "outputs": [
        {
          "output_type": "stream",
          "name": "stdout",
          "text": [
            "<class 'int'>\n",
            "2023 2022 2021\n"
          ]
        }
      ]
    },
    {
      "cell_type": "code",
      "source": [
        "# 20번 에이컨이 월 48,584원에 무이자 36개월의 조건으로 홈쇼핑에서 판매되고 있습니다.\n",
        "# 총 금액은 계산한 후 이를 화면에 출력해보세요. (변수사용하기)\n",
        "\n",
        "monthly_cost = 48584\n",
        "months = 36\n",
        "\n",
        "총_금액 = 48584 * 36\n",
        "print(총_금액)"
      ],
      "metadata": {
        "colab": {
          "base_uri": "https://localhost:8080/"
        },
        "id": "rt57cNwFwa5V",
        "outputId": "960b4658-4d43-4248-ed45-d796a01afd8c"
      },
      "execution_count": null,
      "outputs": [
        {
          "output_type": "stream",
          "name": "stdout",
          "text": [
            "1749024\n"
          ]
        }
      ]
    },
    {
      "cell_type": "markdown",
      "source": [
        "## 21번 ~ 50번 : 파이썬 문자열\n",
        "* 파이썬 문자열은 인덱싱, 슬라이싱 기능과 다양한 메서드를 제공합니다."
      ],
      "metadata": {
        "id": "Z4CCZXst8K07"
      }
    },
    {
      "cell_type": "code",
      "source": [
        "# 21번 letters가 바인딩하는 문자열에서 첫번째와 세번째 문자를 출력하세요.\n",
        "letters = 'python'\n",
        "\n",
        "print(letters[0], letters[2])"
      ],
      "metadata": {
        "id": "SiGeFNLdwa8t",
        "colab": {
          "base_uri": "https://localhost:8080/"
        },
        "outputId": "0fa5d843-f69c-47f8-d7e0-75e882b44a47"
      },
      "execution_count": null,
      "outputs": [
        {
          "output_type": "stream",
          "name": "stdout",
          "text": [
            "p t\n"
          ]
        }
      ]
    },
    {
      "cell_type": "code",
      "source": [
        "# 22번 자동차 번호가 다음과 같을 때 뒤에 4자리만 출력하세요.\n",
        "license_plate = \"24가 2210\"\n",
        "\n",
        "print(license_plate[4:])\n",
        "print(license_plate[-4:])"
      ],
      "metadata": {
        "colab": {
          "base_uri": "https://localhost:8080/"
        },
        "id": "6pI3wdX4X7cK",
        "outputId": "08b2dde5-8bc0-4518-bf45-7b2e5085d508"
      },
      "execution_count": null,
      "outputs": [
        {
          "output_type": "stream",
          "name": "stdout",
          "text": [
            "2210\n",
            "2210\n"
          ]
        }
      ]
    },
    {
      "cell_type": "code",
      "source": [
        "# 23번 아래의 문자열에서 '홀' 만 출력하세요.\n",
        "string = \"홀짝홀짝홀짝\"\n",
        "\n",
        "print(string[::2])"
      ],
      "metadata": {
        "colab": {
          "base_uri": "https://localhost:8080/"
        },
        "id": "-jLrIPcsX940",
        "outputId": "45fc6dc4-abb4-4bb3-b932-e958cf86c913"
      },
      "execution_count": null,
      "outputs": [
        {
          "output_type": "stream",
          "name": "stdout",
          "text": [
            "홀홀홀\n"
          ]
        }
      ]
    },
    {
      "cell_type": "code",
      "source": [
        "# 24번 문자열을 거꾸로 뒤집어 출력하세요.\n",
        "string = \"PYTHON\"\n",
        "\n",
        "print(string[::-1])"
      ],
      "metadata": {
        "colab": {
          "base_uri": "https://localhost:8080/"
        },
        "id": "F9mSEXxvX98X",
        "outputId": "fb5a302c-cf5b-482d-feb4-f0663ff597b5"
      },
      "execution_count": null,
      "outputs": [
        {
          "output_type": "stream",
          "name": "stdout",
          "text": [
            "NOHTYP\n"
          ]
        }
      ]
    },
    {
      "cell_type": "code",
      "source": [
        "# 25번 아래의 전화번호에서 하이푼 ('-')을 제거하고 출력하세요.\n",
        "\n",
        "phone_number = \"010-1111-2222\"\n",
        "\n",
        "print(phone_number.replace(\"-\",\" \"))"
      ],
      "metadata": {
        "colab": {
          "base_uri": "https://localhost:8080/"
        },
        "id": "N74K_ZFZX9_j",
        "outputId": "5acc264a-af10-4443-bd13-77dda655a35f"
      },
      "execution_count": null,
      "outputs": [
        {
          "output_type": "stream",
          "name": "stdout",
          "text": [
            "010 1111 2222\n"
          ]
        }
      ]
    },
    {
      "cell_type": "code",
      "source": [
        "# 26번 25번 문제의 전화번호를 모두 붙여 출력하세요. (01011112222)\n",
        "\n",
        "print(phone_number.replace(\"-\",\"\"))"
      ],
      "metadata": {
        "colab": {
          "base_uri": "https://localhost:8080/"
        },
        "id": "5_1GrXelX-CT",
        "outputId": "61d84c9e-da44-46dc-c461-f28495172c48"
      },
      "execution_count": null,
      "outputs": [
        {
          "output_type": "stream",
          "name": "stdout",
          "text": [
            "01011112222\n"
          ]
        }
      ]
    },
    {
      "cell_type": "code",
      "source": [
        "# 27번 url 에 저장된 웹 페이지 주소에서 도메인을 출력하세요. (kr)\n",
        "url = \"http://sharebook.kr\"\n",
        "\n",
        "print(url[-2:])\n",
        "\n",
        "url_split = url.split(\".\")\n",
        "url_split\n",
        "print(url_split[1])"
      ],
      "metadata": {
        "colab": {
          "base_uri": "https://localhost:8080/"
        },
        "id": "TGwUNQ93X-KX",
        "outputId": "8427fb2b-0142-47c1-cbbb-96bd551f5191"
      },
      "execution_count": null,
      "outputs": [
        {
          "output_type": "stream",
          "name": "stdout",
          "text": [
            "kr\n",
            "kr\n"
          ]
        }
      ]
    },
    {
      "cell_type": "code",
      "source": [
        "# 28번 아래 코드의 실행 결과를 예상해보세요.\n",
        "\n",
        "'''\n",
        ">> lang = 'python'\n",
        ">> lang[0] = 'P'\n",
        ">> print(lang)\n",
        "'''\n",
        "# 문자열은 수정할 수 없음. 문자열이 assignment 메서드를 지원하지 않음"
      ],
      "metadata": {
        "colab": {
          "base_uri": "https://localhost:8080/",
          "height": 229
        },
        "id": "6y3JSOQ7X-K-",
        "outputId": "371a0a0c-61c9-48f3-aeca-d8ec22144155"
      },
      "execution_count": null,
      "outputs": [
        {
          "output_type": "error",
          "ename": "TypeError",
          "evalue": "ignored",
          "traceback": [
            "\u001b[0;31m---------------------------------------------------------------------------\u001b[0m",
            "\u001b[0;31mTypeError\u001b[0m                                 Traceback (most recent call last)",
            "\u001b[0;32m<ipython-input-40-2dbb661d646d>\u001b[0m in \u001b[0;36m<cell line: 9>\u001b[0;34m()\u001b[0m\n\u001b[1;32m      7\u001b[0m '''\n\u001b[1;32m      8\u001b[0m \u001b[0mlang\u001b[0m \u001b[0;34m=\u001b[0m \u001b[0;34m'python'\u001b[0m\u001b[0;34m\u001b[0m\u001b[0;34m\u001b[0m\u001b[0m\n\u001b[0;32m----> 9\u001b[0;31m \u001b[0mlang\u001b[0m\u001b[0;34m[\u001b[0m\u001b[0;36m0\u001b[0m\u001b[0;34m]\u001b[0m \u001b[0;34m=\u001b[0m \u001b[0;34m'P'\u001b[0m\u001b[0;34m\u001b[0m\u001b[0;34m\u001b[0m\u001b[0m\n\u001b[0m\u001b[1;32m     10\u001b[0m \u001b[0mprint\u001b[0m\u001b[0;34m(\u001b[0m\u001b[0mlang\u001b[0m\u001b[0;34m)\u001b[0m\u001b[0;34m\u001b[0m\u001b[0;34m\u001b[0m\u001b[0m\n",
            "\u001b[0;31mTypeError\u001b[0m: 'str' object does not support item assignment"
          ]
        }
      ]
    },
    {
      "cell_type": "code",
      "source": [
        "# 29번 아래 문자열에서 소문자 'a'를 대문자 'A'로 변경하세요.\n",
        "string = 'abcdfe2a354a32a'\n",
        "\n",
        "print(string.replace('a','A'))"
      ],
      "metadata": {
        "colab": {
          "base_uri": "https://localhost:8080/",
          "height": 54
        },
        "id": "YGC74LU3X-Le",
        "outputId": "ddf6add9-1c75-4b2a-9b3e-7fd78c33623c"
      },
      "execution_count": null,
      "outputs": [
        {
          "output_type": "stream",
          "name": "stdout",
          "text": [
            "Abcdfe2A354A32A\n"
          ]
        },
        {
          "output_type": "execute_result",
          "data": {
            "text/plain": [
              "'abcdfe2a354a32a'"
            ],
            "application/vnd.google.colaboratory.intrinsic+json": {
              "type": "string"
            }
          },
          "metadata": {},
          "execution_count": 44
        }
      ]
    },
    {
      "cell_type": "code",
      "source": [
        "# 30번 아래 코드의 실행 결과를 예상해보세요.\n",
        "'''\n",
        ">> string = 'abcd'\n",
        ">> string.replace('b', 'B')\n",
        ">> print(string)\n",
        "'''\n",
        "\n",
        "# replace는 원본을 변경시키지 않기 때문에 'abcd'문자열 그대로 출력될 것\n",
        "\n",
        "string = 'abcd'\n",
        "string.replace('b', 'B')\n",
        "print(string)"
      ],
      "metadata": {
        "colab": {
          "base_uri": "https://localhost:8080/"
        },
        "id": "2utXDVQXX-L9",
        "outputId": "dbb8a9e0-5656-4c70-9d4d-a185fda5ad02"
      },
      "execution_count": null,
      "outputs": [
        {
          "output_type": "stream",
          "name": "stdout",
          "text": [
            "abcd\n"
          ]
        }
      ]
    },
    {
      "cell_type": "code",
      "source": [
        "# 31번 아래 코드의 실행 결과를 예상해보세요.\n",
        "'''\n",
        ">> a = \"3\"\n",
        ">> b = \"4\"\n",
        ">> print(a + b)\n",
        "'''\n",
        "\n",
        "# 둘다 str(문자열)이기 때문에 '34'가 출력될 것이다. 덧셈기호는 문자열의 연결을 의미"
      ],
      "metadata": {
        "colab": {
          "base_uri": "https://localhost:8080/"
        },
        "id": "1E_Dn1JGX-Ml",
        "outputId": "f5535cc6-3cb1-46bc-fb9e-cffba04bac39"
      },
      "execution_count": null,
      "outputs": [
        {
          "output_type": "stream",
          "name": "stdout",
          "text": [
            "34\n"
          ]
        }
      ]
    },
    {
      "cell_type": "code",
      "source": [
        "# 32번 아래 코드의 실행 결과를 예상해보세요\n",
        "'''\n",
        ">> print(\"Hi\" * 3)\n",
        "'''\n",
        "\n",
        "# 'HiHiHi' 출력될 것 곱셈기호 및 기호 뒤의 숫자는 문자열의 반복 및 몇회 반복할 지 의미"
      ],
      "metadata": {
        "colab": {
          "base_uri": "https://localhost:8080/"
        },
        "id": "ZEckVaw4X-ND",
        "outputId": "6c11fc09-23f9-40e4-ab40-ebdccd97384d"
      },
      "execution_count": null,
      "outputs": [
        {
          "output_type": "stream",
          "name": "stdout",
          "text": [
            "HiHiHi\n"
          ]
        }
      ]
    },
    {
      "cell_type": "code",
      "source": [
        "# 33번 화면에 '-'를 80개 출력하세요.\n",
        "\n",
        "print('-' * 80)"
      ],
      "metadata": {
        "colab": {
          "base_uri": "https://localhost:8080/"
        },
        "id": "hQ145lMSX-Nt",
        "outputId": "efe0eeb3-2469-4be3-bcd3-f086e05c55c7"
      },
      "execution_count": null,
      "outputs": [
        {
          "output_type": "stream",
          "name": "stdout",
          "text": [
            "--------------------------------------------------------------------------------\n"
          ]
        }
      ]
    },
    {
      "cell_type": "code",
      "source": [
        "# 34번 변수에 다음과 같은 문자열이 바인딩되어 있습니다.\n",
        "\n",
        "t1 = 'python'\n",
        "t2 = 'java'\n",
        "\n",
        "# 변수에 문자열 더하기와 문자열 곱하기를 사용해서 아래와 같이 출력해보세요.\n",
        "'''\n",
        "실행 예:\n",
        "python java python java python java python java\n",
        "'''\n",
        "\n",
        "print((t1 + ' ' + t2 + ' ') * 4)"
      ],
      "metadata": {
        "colab": {
          "base_uri": "https://localhost:8080/"
        },
        "id": "JJosVZiwXD8U",
        "outputId": "a6f9c128-9f42-4c81-e73a-0b4baff9a5c6"
      },
      "execution_count": null,
      "outputs": [
        {
          "output_type": "stream",
          "name": "stdout",
          "text": [
            "python java python java python java python java \n"
          ]
        }
      ]
    },
    {
      "cell_type": "code",
      "source": [
        "# 35번 변수에 다음과 같이 문자열과 정수가 바인딩되어 있을 때 % formatting을 사용해서 다음과 같이 출력해보세요.\n",
        "\n",
        "name1 = \"김민수\" \n",
        "age1 = 10\n",
        "name2 = \"이철희\"\n",
        "age2 = 13\n",
        "\n",
        "'''\n",
        "이름: 김민수 나이: 10\n",
        "이름: 이철희 나이: 13\n",
        "'''\n",
        "\n",
        "print(f'이름: {name1} 나이: {age1}')\n",
        "print(f'이름: {name2} 나이: {age2}')\n",
        "\n",
        "print('이름: %s 나이: %d' % (name1, age1))\n",
        "print(\"이름: %s 나이: %d\" % (name2, age2))\n",
        "\n",
        "print('이름: {} 나이: {}'.format(name1, age1))\n",
        "print('이름: {} 나이: {}'.format(name2, age2))"
      ],
      "metadata": {
        "id": "BeYkUJ9wX-OW",
        "colab": {
          "base_uri": "https://localhost:8080/"
        },
        "outputId": "4d463654-4e92-4e49-ccad-64dbaa90253a"
      },
      "execution_count": null,
      "outputs": [
        {
          "output_type": "stream",
          "name": "stdout",
          "text": [
            "이름: 김민수 나이: 10\n",
            "이름: 이철희 나이: 13\n",
            "이름: 김민수 나이: 10\n",
            "이름: 이철희 나이: 13\n",
            "이름: 김민수 나이: 10\n",
            "이름: 이철희 나이: 13\n"
          ]
        }
      ]
    },
    {
      "cell_type": "code",
      "source": [
        "# 36번 문자열의 format( ) 메서드를 사용해서 035번 문제를 다시 풀어보세요."
      ],
      "metadata": {
        "id": "Ducx9x6kX-PG"
      },
      "execution_count": null,
      "outputs": []
    },
    {
      "cell_type": "code",
      "source": [
        "# 37번 파이썬 3.6부터 지원하는 f-string을 사용해서 035번 문제를 다시 풀어보세요."
      ],
      "metadata": {
        "id": "9B89tX-NX-Pk"
      },
      "execution_count": null,
      "outputs": []
    },
    {
      "cell_type": "code",
      "source": [
        "# 38번 삼성전자의 상장주식수가 다음과 같습니다. 컴마를 제거한 후 이를 정수 타입으로 변환해보세요\n",
        "\n",
        "상장주식수 = \"5,969,782,550\"\n",
        "컴마제거 = 상장주식수.replace(',','')\n",
        "타입변환 = int(컴마제거)\n",
        "\n",
        "print(타입변환, type(타입변환))"
      ],
      "metadata": {
        "id": "GLIm8c_yX-QE",
        "colab": {
          "base_uri": "https://localhost:8080/"
        },
        "outputId": "fc1e2a78-d012-4af9-b020-c616c40afc5f"
      },
      "execution_count": null,
      "outputs": [
        {
          "output_type": "stream",
          "name": "stdout",
          "text": [
            "5969782550 <class 'int'>\n"
          ]
        }
      ]
    },
    {
      "cell_type": "code",
      "source": [
        "# 39번 다음과 같은 문자열에서 '2020/03'만 출력하세요.\n",
        "분기 = \"2020/03(E) (IFRS연결)\"\n",
        "\n",
        "print(분기[:7])"
      ],
      "metadata": {
        "id": "31MNYSUOX-Qq",
        "colab": {
          "base_uri": "https://localhost:8080/"
        },
        "outputId": "a9c27d04-894d-4725-d5a4-a948502f66e2"
      },
      "execution_count": null,
      "outputs": [
        {
          "output_type": "stream",
          "name": "stdout",
          "text": [
            "2020/03\n"
          ]
        }
      ]
    },
    {
      "cell_type": "code",
      "source": [
        "# 40번 문자열의 좌우의 공백이 있을 때 이를 제거해보세요.\n",
        "\n",
        "data = \"   삼성전자    \"\n",
        "\n",
        "print(data.strip())\n",
        "type(data)"
      ],
      "metadata": {
        "id": "AyGWofr-X-RW",
        "colab": {
          "base_uri": "https://localhost:8080/"
        },
        "outputId": "c6ab81f3-839e-4564-ff10-983aed9704fe"
      },
      "execution_count": null,
      "outputs": [
        {
          "output_type": "stream",
          "name": "stdout",
          "text": [
            "삼성전자\n"
          ]
        },
        {
          "output_type": "execute_result",
          "data": {
            "text/plain": [
              "str"
            ]
          },
          "metadata": {},
          "execution_count": 24
        }
      ]
    },
    {
      "cell_type": "code",
      "source": [
        "# 41번 다음과 같은 문자열이 있을 때 이를 대문자 BTC_KRW로 변경하세요.\n",
        "\n",
        "ticker = \"btc_krw\"\n",
        "\n",
        "print(ticker.upper())"
      ],
      "metadata": {
        "id": "CSRgDXgyX-R1",
        "colab": {
          "base_uri": "https://localhost:8080/"
        },
        "outputId": "cf1def87-da41-4996-e5d1-da20d1b7e06b"
      },
      "execution_count": null,
      "outputs": [
        {
          "output_type": "stream",
          "name": "stdout",
          "text": [
            "BTC_KRW\n"
          ]
        }
      ]
    },
    {
      "cell_type": "code",
      "source": [
        "# 42번 다음과 같은 문자열이 있을 때 이를 소문자 btc_krw로 변경하세요.\n",
        "\n",
        "ticker = \"BTC_KRW\"\n",
        "\n",
        "print(ticker.lower())"
      ],
      "metadata": {
        "id": "Yfhc3LJmX-SV",
        "colab": {
          "base_uri": "https://localhost:8080/"
        },
        "outputId": "ba7522a6-f6e9-438e-86dc-b7ee0f00e03e"
      },
      "execution_count": null,
      "outputs": [
        {
          "output_type": "stream",
          "name": "stdout",
          "text": [
            "btc_krw\n"
          ]
        }
      ]
    },
    {
      "cell_type": "code",
      "source": [
        "# 43번 문자열 'hello'가 있을 때 이를 'Hello'로 변경해보세요.\n",
        "\n",
        "string = 'hello'\n",
        "\n",
        "print(string.capitalize())"
      ],
      "metadata": {
        "id": "h64ZAAv0X-S9",
        "colab": {
          "base_uri": "https://localhost:8080/"
        },
        "outputId": "9e6291c9-c228-423d-cb0f-91a70dc7d1e7"
      },
      "execution_count": null,
      "outputs": [
        {
          "output_type": "stream",
          "name": "stdout",
          "text": [
            "Hello\n"
          ]
        }
      ]
    },
    {
      "cell_type": "code",
      "source": [
        "# 44번 파일 이름이 문자열로 저장되어 있을 때 endswith 메서드를 사용해서 파일 이름이 'xlsx'로 끝나는지 확인해보세요.\n",
        "\n",
        "file_name = \"보고서.xlsx\"\n",
        "file_name.endswith('xlsx')"
      ],
      "metadata": {
        "id": "1HntLtvHX-Tb",
        "colab": {
          "base_uri": "https://localhost:8080/"
        },
        "outputId": "9b37bf7c-7da1-49a5-8c22-9d166e518ad9"
      },
      "execution_count": null,
      "outputs": [
        {
          "output_type": "execute_result",
          "data": {
            "text/plain": [
              "True"
            ]
          },
          "metadata": {},
          "execution_count": 28
        }
      ]
    },
    {
      "cell_type": "code",
      "source": [
        "# 45번 파일 이름이 문자열로 저장되어 있을 때 endswith 메서드를 사용해서 파일 이름이 'xlsx' 또는 'xls'로 끝나는지 확인해보세요.\n",
        "\n",
        "file_name = \"보고서.xlsx\"\n",
        "file_name.endswith(('xlsx', 'xls'))"
      ],
      "metadata": {
        "id": "HCKWL6nAX-UA",
        "colab": {
          "base_uri": "https://localhost:8080/"
        },
        "outputId": "11ff6e1d-9227-4386-84b2-98bb8d6c5eba"
      },
      "execution_count": null,
      "outputs": [
        {
          "output_type": "execute_result",
          "data": {
            "text/plain": [
              "True"
            ]
          },
          "metadata": {},
          "execution_count": 30
        }
      ]
    },
    {
      "cell_type": "code",
      "source": [
        "# 46번 파일 이름이 문자열로 저장되어 있을 때 startswith 메서드를 사용해서 파일 이름이 '2020'로 시작하는지 확인해보세요.\n",
        "\n",
        "file_name = \"2020_보고서.xlsx\"\n",
        "file_name.startswith('2020')"
      ],
      "metadata": {
        "id": "7VVA-HLXX-Uh",
        "colab": {
          "base_uri": "https://localhost:8080/"
        },
        "outputId": "dc5c398c-e6fd-48ff-aad7-ffced6673889"
      },
      "execution_count": null,
      "outputs": [
        {
          "output_type": "execute_result",
          "data": {
            "text/plain": [
              "True"
            ]
          },
          "metadata": {},
          "execution_count": 32
        }
      ]
    },
    {
      "cell_type": "code",
      "source": [
        "# 47번 다음과 같은 문자열이 있을 때 공백을 기준으로 문자열을 나눠보세요.\n",
        "\n",
        "a = \"hello world\"\n",
        "print(a.split(' '))"
      ],
      "metadata": {
        "id": "RfPu3b71X-VL",
        "colab": {
          "base_uri": "https://localhost:8080/"
        },
        "outputId": "a30aec2f-8be6-44e9-8cc0-111b8926ebe1"
      },
      "execution_count": null,
      "outputs": [
        {
          "output_type": "stream",
          "name": "stdout",
          "text": [
            "['hello', 'world']\n"
          ]
        }
      ]
    },
    {
      "cell_type": "code",
      "source": [
        "# 48번 다음과 같이 문자열이 있을 때 btc와 krw로 나눠보세요.\n",
        "ticker = \"btc_krw\"\n",
        "print(ticker.split('_'))"
      ],
      "metadata": {
        "id": "oMiP0wmDX-Vs",
        "colab": {
          "base_uri": "https://localhost:8080/"
        },
        "outputId": "df9641f8-5fdc-4a3d-ab9d-d0b85334ab6a"
      },
      "execution_count": null,
      "outputs": [
        {
          "output_type": "stream",
          "name": "stdout",
          "text": [
            "['btc', 'krw']\n"
          ]
        }
      ]
    },
    {
      "cell_type": "code",
      "source": [
        "# 49번 다음과 같이 날짜를 표현하는 문자열이 있을 때 연도, 월, 일로 나눠보세요.\n",
        "\n",
        "날짜 = \"2020-05-01\"\n",
        "print(날짜.split('-'))"
      ],
      "metadata": {
        "id": "NIjpGarKX-WN",
        "colab": {
          "base_uri": "https://localhost:8080/"
        },
        "outputId": "e530aa8f-ce0d-47b9-b8c5-9239eaf1c742"
      },
      "execution_count": null,
      "outputs": [
        {
          "output_type": "stream",
          "name": "stdout",
          "text": [
            "['2020', '05', '01']\n"
          ]
        }
      ]
    },
    {
      "cell_type": "code",
      "source": [
        "# 50번 문자열의 오른쪽에 공백이 있을 때 이를 제거해보세요.\n",
        "\n",
        "숫자문자 = \"039490     \"\n",
        "print(숫자문자.rstrip())"
      ],
      "metadata": {
        "id": "KKxB2MLuX-Wr",
        "colab": {
          "base_uri": "https://localhost:8080/"
        },
        "outputId": "6e28e838-4d77-4098-bc0f-6b2f58550be1"
      },
      "execution_count": null,
      "outputs": [
        {
          "output_type": "stream",
          "name": "stdout",
          "text": [
            "039490\n"
          ]
        }
      ]
    },
    {
      "cell_type": "markdown",
      "source": [
        "## 51번 ~ 70번 : 파이썬 리스트\n",
        "* 파이선 리스트는 순서가 있고 수정 가능한 자료구조입니다."
      ],
      "metadata": {
        "id": "zZFU-C5rIhT7"
      }
    },
    {
      "cell_type": "code",
      "source": [
        "# 51번 2016년 11월 영화 예매 순위 기준 top3는 다음과 같습니다. \n",
        "# 영화 제목을 movie_rank 이름의 리스트에 저장해보세요. (순위 정보는 저장하지 않습니다.)\n",
        "'''\n",
        "순위    \t영화\n",
        "1       닥터 스트레인지\n",
        "2       \t스플릿\n",
        "3       \t럭키\n",
        "'''\n",
        "\n",
        "movie_rank = ('닥터 스트레인지', '스플릿', '럭키')\n",
        "print(list(movie_rank))"
      ],
      "metadata": {
        "id": "0IKqO3FDX-XJ",
        "colab": {
          "base_uri": "https://localhost:8080/"
        },
        "outputId": "65c46a3a-966e-4503-fcc2-d408f03d013d"
      },
      "execution_count": null,
      "outputs": [
        {
          "output_type": "stream",
          "name": "stdout",
          "text": [
            "['닥터 스트레인지', '스플릿', '럭키']\n"
          ]
        }
      ]
    },
    {
      "cell_type": "code",
      "source": [
        "# 52번 051의 movie_rank 리스트에 \"배트맨\"을 추가하라.\n",
        "\n",
        "movie_rank = ['닥터 스트레인지', '스플릿', '럭키']\n",
        "movie_rank.append('배트맨')\n",
        "print(movie_rank)"
      ],
      "metadata": {
        "id": "uIg4e0MwX-Xo",
        "colab": {
          "base_uri": "https://localhost:8080/"
        },
        "outputId": "0110a55e-fcfd-4109-8d11-49dfb86359b5"
      },
      "execution_count": null,
      "outputs": [
        {
          "output_type": "stream",
          "name": "stdout",
          "text": [
            "['닥터 스트레인지', '스플릿', '럭키', '배트맨']\n"
          ]
        }
      ]
    },
    {
      "cell_type": "code",
      "source": [
        "# 53번 movie_rank 리스트에는 아래와 같이 네 개의 영화 제목이 바인딩되어 있다.\n",
        "# \"슈퍼맨\"을 \"닥터 스트레인지\"와 \"스플릿\" 사이에 추가하라.\n",
        "\n",
        "movie_rank.insert(1, '슈퍼맨')\n",
        "print(movie_rank)"
      ],
      "metadata": {
        "id": "9dPKKlDGX-YV",
        "colab": {
          "base_uri": "https://localhost:8080/"
        },
        "outputId": "2384efaf-5c95-42bb-b959-b313c6a3d006"
      },
      "execution_count": null,
      "outputs": [
        {
          "output_type": "stream",
          "name": "stdout",
          "text": [
            "['닥터 스트레인지', '슈퍼맨', '스플릿', '럭키', '배트맨']\n"
          ]
        }
      ]
    },
    {
      "cell_type": "code",
      "source": [
        "# 54번 movie_rank 리스트에서 '럭키'를 삭제하라.\n",
        "\n",
        "movie_rank = ['닥터 스트레인지', '슈퍼맨', '스플릿', '럭키', '배트맨']\n",
        "movie_rank.remove('럭키')\n",
        "print(movie_rank)"
      ],
      "metadata": {
        "id": "IgWGzBERX-Y0",
        "colab": {
          "base_uri": "https://localhost:8080/"
        },
        "outputId": "feb5a77d-4262-4e4f-c591-90b1e15e4822"
      },
      "execution_count": null,
      "outputs": [
        {
          "output_type": "stream",
          "name": "stdout",
          "text": [
            "['닥터 스트레인지', '슈퍼맨', '스플릿', '배트맨']\n"
          ]
        }
      ]
    },
    {
      "cell_type": "code",
      "source": [
        "# 55번 movie_rank 리스트에서 '스플릿' 과 '배트맨'을 를 삭제하라.\n",
        "\n",
        "movie_rank = ['닥터 스트레인지', '슈퍼맨', '스플릿', '배트맨']\n",
        "movie_rank.remove('스플릿')\n",
        "movie_rank.remove('배트맨')\n",
        "print(movie_rank)"
      ],
      "metadata": {
        "colab": {
          "base_uri": "https://localhost:8080/"
        },
        "id": "wp_SQLQULrUf",
        "outputId": "68b6075f-1724-410c-add9-d346fba5190d"
      },
      "execution_count": null,
      "outputs": [
        {
          "output_type": "stream",
          "name": "stdout",
          "text": [
            "['닥터 스트레인지', '슈퍼맨']\n"
          ]
        }
      ]
    },
    {
      "cell_type": "code",
      "source": [
        "# 56번 lang1과 lang2 리스트가 있을 때 lang1과 lang2의 원소를 모두 갖고 있는 langs 리스트를 만들어라.\n",
        "\n",
        "lang1 = [\"C\", \"C++\", \"JAVA\"]\n",
        "lang2 = [\"Python\", \"Go\", \"C#\"]\n",
        " \n",
        "합집합 = lang1 + lang2\n",
        "print(합집합)"
      ],
      "metadata": {
        "colab": {
          "base_uri": "https://localhost:8080/"
        },
        "id": "gc8say14LrdS",
        "outputId": "aeb7368f-6c88-47ee-cb8c-c3fea2ca2797"
      },
      "execution_count": null,
      "outputs": [
        {
          "output_type": "stream",
          "name": "stdout",
          "text": [
            "['C', 'C++', 'JAVA', 'Python', 'Go', 'C#']\n"
          ]
        }
      ]
    },
    {
      "cell_type": "code",
      "source": [
        "# 57번 다음 리스트에서 최댓값과 최솟값을 출력하라. (힌트: min(), max() 함수 사용)\n",
        "\n",
        "nums = [1, 2, 3, 4, 5, 6, 7]\n",
        "\n",
        "print(\"max: \", max(nums))\n",
        "print(\"min: \", min(nums))"
      ],
      "metadata": {
        "colab": {
          "base_uri": "https://localhost:8080/"
        },
        "id": "QkwLTF4oLrkE",
        "outputId": "a767fcc4-813e-4c36-edde-760416eb6bc2"
      },
      "execution_count": null,
      "outputs": [
        {
          "output_type": "stream",
          "name": "stdout",
          "text": [
            "max:  7\n",
            "min:  1\n"
          ]
        }
      ]
    },
    {
      "cell_type": "code",
      "source": [
        "# 58번 다음 리스트의 합을 출력하라.\n",
        "\n",
        "nums = [1, 2, 3, 4, 5]\n",
        "\n",
        "print(sum(nums))"
      ],
      "metadata": {
        "colab": {
          "base_uri": "https://localhost:8080/"
        },
        "id": "h7xuYf7ILrow",
        "outputId": "45480cfe-9bbb-44df-9353-659a26a9002d"
      },
      "execution_count": null,
      "outputs": [
        {
          "output_type": "stream",
          "name": "stdout",
          "text": [
            "15\n"
          ]
        }
      ]
    },
    {
      "cell_type": "code",
      "source": [
        "# 59번 다음 리스트에 저장된 데이터의 개수를 화면에 구하하라.\n",
        "\n",
        "cook = [\"피자\", \"김밥\", \"만두\", \"양념치킨\", \"족발\", \"피자\", \"김치만두\", \"쫄면\", \"소시지\", \"라면\", \"팥빙수\", \"김치전\"]\n",
        "\n",
        "print(len(cook))"
      ],
      "metadata": {
        "colab": {
          "base_uri": "https://localhost:8080/"
        },
        "id": "Kq3wOTLKLrs5",
        "outputId": "ad5024ed-3c5a-4b7c-d557-51f10e242a15"
      },
      "execution_count": null,
      "outputs": [
        {
          "output_type": "stream",
          "name": "stdout",
          "text": [
            "12\n"
          ]
        }
      ]
    },
    {
      "cell_type": "code",
      "source": [
        "# 60번 다음 리스트의 평균을 출력하라.\n",
        "\n",
        "nums = [1, 2, 3, 4, 5]\n",
        "\n",
        "print(sum(nums) / len(nums))"
      ],
      "metadata": {
        "colab": {
          "base_uri": "https://localhost:8080/"
        },
        "id": "9jzHD4Q9Lrwm",
        "outputId": "7d98977d-d24c-471d-82d9-7ad5f86bd0dd"
      },
      "execution_count": null,
      "outputs": [
        {
          "output_type": "stream",
          "name": "stdout",
          "text": [
            "3.0\n"
          ]
        }
      ]
    },
    {
      "cell_type": "code",
      "source": [
        "# 61번 price 변수에는 날짜와 종가 정보가 저장돼 있다. \n",
        "# 날짜 정보를 제외하고 가격 정보만을 출력하라. (힌트 : 슬라이싱)\n",
        "\n",
        "price = ['20180728', 100, 130, 140, 150, 160, 170]\n",
        "\n",
        "print(price[1:])"
      ],
      "metadata": {
        "colab": {
          "base_uri": "https://localhost:8080/"
        },
        "id": "u7QIm7DILr0E",
        "outputId": "158c838f-265e-41bc-faa0-1bee4c752c21"
      },
      "execution_count": null,
      "outputs": [
        {
          "output_type": "stream",
          "name": "stdout",
          "text": [
            "[100, 130, 140, 150, 160, 170]\n"
          ]
        }
      ]
    },
    {
      "cell_type": "code",
      "source": [
        "# 62번 슬라이싱을 사용해서 홀수만 출력하라.\n",
        "nums = [1, 2, 3, 4, 5, 6, 7, 8, 9, 10]\n",
        "\n",
        "print(nums[::2])"
      ],
      "metadata": {
        "colab": {
          "base_uri": "https://localhost:8080/"
        },
        "id": "ZusAHwDJLr26",
        "outputId": "1863c7ad-ab99-45d9-8f7d-fe1d31f37709"
      },
      "execution_count": null,
      "outputs": [
        {
          "output_type": "stream",
          "name": "stdout",
          "text": [
            "[1, 3, 5, 7, 9]\n"
          ]
        }
      ]
    },
    {
      "cell_type": "code",
      "source": [
        "# 63번 슬라이싱을 사용해서 짝수만 출력하라.\n",
        "nums = [1, 2, 3, 4, 5, 6, 7, 8, 9, 10]\n",
        "\n",
        "print(nums[1::2])"
      ],
      "metadata": {
        "colab": {
          "base_uri": "https://localhost:8080/"
        },
        "id": "k9HrwTF1Lr52",
        "outputId": "a5fce63d-afb1-4453-a62d-d19f1a1f7384"
      },
      "execution_count": null,
      "outputs": [
        {
          "output_type": "stream",
          "name": "stdout",
          "text": [
            "[2, 4, 6, 8, 10]\n"
          ]
        }
      ]
    },
    {
      "cell_type": "code",
      "source": [
        "# 64번 슬라이싱을 사용해서 리스트의 숫자를 역 방향으로 출력하라.\n",
        "\n",
        "nums = [1, 2, 3, 4, 5]\n",
        "print(nums[::-1])"
      ],
      "metadata": {
        "colab": {
          "base_uri": "https://localhost:8080/"
        },
        "id": "sinnP9xZLr87",
        "outputId": "e3e7f5e5-e987-4513-cfcb-3b0331946684"
      },
      "execution_count": null,
      "outputs": [
        {
          "output_type": "stream",
          "name": "stdout",
          "text": [
            "[5, 4, 3, 2, 1]\n"
          ]
        }
      ]
    },
    {
      "cell_type": "code",
      "source": [
        "# 65번 interest 리스트에는 아래의 데이터가 바인딩되어 있다.\n",
        "\n",
        "interest = ['삼성전자', 'LG전자', 'Naver']\n",
        "\n",
        "# interest 리스트를 사용하여 아래와 같이 화면에 출력하라.\n",
        "\n",
        "\n",
        "'''\n",
        "출력 예시:\n",
        "삼성전자 Naver\n",
        "'''\n",
        "\n",
        "print(interest[0], interest[2])"
      ],
      "metadata": {
        "colab": {
          "base_uri": "https://localhost:8080/"
        },
        "id": "-erLmWGDLsAc",
        "outputId": "89680013-88e8-4e8c-d345-3bc266feb88f"
      },
      "execution_count": null,
      "outputs": [
        {
          "output_type": "stream",
          "name": "stdout",
          "text": [
            "삼성전자 Naver\n"
          ]
        }
      ]
    },
    {
      "cell_type": "code",
      "source": [
        "# 66번 interest 리스트에는 아래의 데이터가 바인딩되어 있다.\n",
        "\n",
        "interest = ['삼성전자', 'LG전자', 'Naver', 'SK하이닉스', '미래에셋대우']\n",
        "\n",
        "#interest 리스트를 사용하여 아래와 같이 화면에 출력하라.\n",
        "\n",
        "'''\n",
        "출력 예시:\n",
        "삼성전자 LG전자 Naver SK하이닉스 미래에셋대우\n",
        "'''\n",
        "\n",
        "print(' '.join(interest))"
      ],
      "metadata": {
        "colab": {
          "base_uri": "https://localhost:8080/"
        },
        "id": "m7PPRUl4LsEI",
        "outputId": "4d56c0a5-8cd6-4fbc-8cb5-afe12cd34917"
      },
      "execution_count": null,
      "outputs": [
        {
          "output_type": "stream",
          "name": "stdout",
          "text": [
            "삼성전자 LG전자 Naver SK하이닉스 미래에셋대우\n"
          ]
        }
      ]
    },
    {
      "cell_type": "code",
      "source": [
        "# 67번 interest 리스트에는 아래의 데이터가 바인딩되어 있다.\n",
        "\n",
        "interest = ['삼성전자', 'LG전자', 'Naver', 'SK하이닉스', '미래에셋대우']\n",
        "\n",
        "#interest 리스트를 사용하여 아래와 같이 화면에 출력하라.\n",
        "\n",
        "'''\n",
        "출력 예시:\n",
        "삼성전자/LG전자/Naver/SK하이닉스/미래에셋대우\n",
        "'''\n",
        "\n",
        "print('/'.join(interest))"
      ],
      "metadata": {
        "colab": {
          "base_uri": "https://localhost:8080/"
        },
        "id": "cyWS-z7iLsHS",
        "outputId": "df623f51-0109-42ec-97dd-b40d29f58829"
      },
      "execution_count": null,
      "outputs": [
        {
          "output_type": "stream",
          "name": "stdout",
          "text": [
            "삼성전자/LG전자/Naver/SK하이닉스/미래에셋대우\n"
          ]
        }
      ]
    },
    {
      "cell_type": "code",
      "source": [
        "# 68번 interest 리스트에는 아래의 데이터가 바인딩되어 있다.\n",
        "\n",
        "interest = ['삼성전자', 'LG전자', 'Naver', 'SK하이닉스', '미래에셋대우']\n",
        "\n",
        "#join() 메서드를 사용해서 interest 리스트를 아래와 같이 화면에 출력하라.\n",
        "\n",
        "'''\n",
        "출력 예시:\n",
        "삼성전자\n",
        "LG전자\n",
        "Naver\n",
        "SK하이닉스\n",
        "미래에셋대우\n",
        "'''\n",
        "\n",
        "print('\\n'.join(interest))"
      ],
      "metadata": {
        "colab": {
          "base_uri": "https://localhost:8080/"
        },
        "id": "vIEszsJ4LsKw",
        "outputId": "1210720a-d69c-459e-e150-42477b35e2b2"
      },
      "execution_count": null,
      "outputs": [
        {
          "output_type": "stream",
          "name": "stdout",
          "text": [
            "삼성전자\n",
            "LG전자\n",
            "Naver\n",
            "SK하이닉스\n",
            "미래에셋대우\n"
          ]
        }
      ]
    },
    {
      "cell_type": "code",
      "source": [
        "# 69번 회사 이름이 슬래시 ('/')로 구분되어 하나의 문자열로 저장되어 있다.\n",
        "\n",
        "string = \"삼성전자/LG전자/Naver\"\n",
        "\n",
        "# 이를 interest 이름의 리스트로 분리 저장하라.\n",
        "\n",
        "'''\n",
        "실행 예시\n",
        ">> print(interest)\n",
        "['삼성전자', 'LG전자', 'Naver']\n",
        "'''\n",
        "\n",
        "print(string.split('/'))"
      ],
      "metadata": {
        "colab": {
          "base_uri": "https://localhost:8080/"
        },
        "id": "azDdSpwhLsOD",
        "outputId": "6cf04f51-1ef9-4ff3-aa63-732cf13098f6"
      },
      "execution_count": null,
      "outputs": [
        {
          "output_type": "stream",
          "name": "stdout",
          "text": [
            "['삼성전자', 'LG전자', 'Naver']\n"
          ]
        }
      ]
    },
    {
      "cell_type": "code",
      "source": [
        "# 70번 리스트에 있는 값을 오름차순으로 정렬하세요.\n",
        "\n",
        "data = [2, 4, 3, 1, 5, 10, 9]\n",
        "\n",
        "print(sorted(data))"
      ],
      "metadata": {
        "colab": {
          "base_uri": "https://localhost:8080/"
        },
        "id": "eXkfMOWsLsRc",
        "outputId": "3212a411-7bab-4d65-ba4b-45506db820f6"
      },
      "execution_count": null,
      "outputs": [
        {
          "output_type": "stream",
          "name": "stdout",
          "text": [
            "[1, 2, 3, 4, 5, 9, 10]\n"
          ]
        }
      ]
    },
    {
      "cell_type": "markdown",
      "source": [
        "## 71번 ~ 80번 : 파이썬 튜플\n",
        "* 파이썬 튜플은 순서가 있지만 수정 불가능한 자료구조입니다.\n"
      ],
      "metadata": {
        "id": "tVZWseOZNvSM"
      }
    },
    {
      "cell_type": "code",
      "source": [
        "# 71번 my_variable 이름의 비어있는 튜플을 만들라.\n",
        "\n",
        "my_variable = ()\n",
        "\n",
        "type(my_variable)"
      ],
      "metadata": {
        "colab": {
          "base_uri": "https://localhost:8080/"
        },
        "id": "3hWpSu7RN6wT",
        "outputId": "7f3754d2-8943-423d-d24c-569272dcbc67"
      },
      "execution_count": 3,
      "outputs": [
        {
          "output_type": "execute_result",
          "data": {
            "text/plain": [
              "tuple"
            ]
          },
          "metadata": {},
          "execution_count": 3
        }
      ]
    },
    {
      "cell_type": "code",
      "source": [
        "# 72번 2016년 11월 영화 예매 순위 기준 top3는 다음과 같다. \n",
        "# 영화 제목을 movie_rank 이름의 튜플에 저장하라. (순위 정보는 저장하지 않는다.)\n",
        "\n",
        "'''\n",
        "순위\t영화\n",
        "1\t닥터 스트레인지\n",
        "2\t스플릿\n",
        "3\t럭키\n",
        "'''\n",
        "\n",
        "movie_rank = ('닥터 스트레인지', '스플릿', '럭키')\n",
        "\n",
        "print(movie_rank)"
      ],
      "metadata": {
        "colab": {
          "base_uri": "https://localhost:8080/"
        },
        "id": "6iDtDj10OPwr",
        "outputId": "7481dcf8-7144-42c7-d996-e6921928c0da"
      },
      "execution_count": 5,
      "outputs": [
        {
          "output_type": "stream",
          "name": "stdout",
          "text": [
            "('닥터 스트레인지', '스플릿', '럭키')\n"
          ]
        }
      ]
    },
    {
      "cell_type": "code",
      "source": [
        "# 73번 숫자 1 이 저장된 튜플을 생성하라. (하나의 정숫값을 저장하게 되면 파이선은 튜플이 아닌 정수로 인식함)\n",
        "\n",
        "nums = (1, )\n",
        "\n",
        "print(type(nums))"
      ],
      "metadata": {
        "colab": {
          "base_uri": "https://localhost:8080/"
        },
        "id": "83938yTWOfM2",
        "outputId": "6e22b090-a2f7-4dc2-8acb-cea3bb5b0e15"
      },
      "execution_count": 9,
      "outputs": [
        {
          "output_type": "stream",
          "name": "stdout",
          "text": [
            "<class 'tuple'>\n"
          ]
        }
      ]
    },
    {
      "cell_type": "code",
      "source": [
        "# 74번 다음 코드를 실행해보고 오류가 발생하는 원인을 설명하라.\n",
        "\n",
        "'''\n",
        ">> t = (1, 2, 3)\n",
        ">> t[0] = 'a'\n",
        "Traceback (most recent call last):\n",
        "  File \"<pyshell#46>\", line 1, in <module>\n",
        "    t[0] = 'a'\n",
        "TypeError: 'tuple' object does not support item assignment\n",
        "'''\n",
        "\n",
        "# tuple은 원소(element)의 값을 변경할 수 없음!"
      ],
      "metadata": {
        "id": "W0qDg-79O4CL"
      },
      "execution_count": null,
      "outputs": []
    },
    {
      "cell_type": "code",
      "source": [
        "# 75번 아래와 같이 t에는 1, 2, 3, 4 데이터가 바인딩되어 있다. t가 바인딩하는 데이터 타입은 무엇인가?\n",
        "\n",
        "t = 1, 2, 3, 4\n",
        "\n",
        "type(t)\n",
        "\n",
        "# 원칙적으로 튜플은 괄호와 함께 데이터를 정의해야 하지만, 사용자 편의를 위해 괄호 없이도 동작합니다."
      ],
      "metadata": {
        "colab": {
          "base_uri": "https://localhost:8080/"
        },
        "id": "3vvQVxODPQVD",
        "outputId": "935f0da6-9f64-478c-95e3-6256569154b7"
      },
      "execution_count": 10,
      "outputs": [
        {
          "output_type": "execute_result",
          "data": {
            "text/plain": [
              "tuple"
            ]
          },
          "metadata": {},
          "execution_count": 10
        }
      ]
    },
    {
      "cell_type": "code",
      "source": [
        "# 76번 변수 t에는 아래와 같은 값이 저장되어 있다. 변수 t가 ('A', 'b', 'c') 튜플을 가리키도록 수정 하라.\n",
        "\n",
        "t = ('a', 'b', 'c')\n",
        "t = ('A', 'b', 'c')\n",
        "\n",
        "print(t)\n",
        "\n",
        "# 튜플은 원소의 값을 변경할 수 없기 때문에\n",
        "# 새로운 튜플을 만들고 t 라는 변수를 업데이트 해야 합니다. 기존의 튜플 ('a', 'b', 'c')은 자동으로 삭제됩니다."
      ],
      "metadata": {
        "colab": {
          "base_uri": "https://localhost:8080/"
        },
        "id": "YfcCXdzUPeaj",
        "outputId": "e0c5aded-8365-48d1-98e6-90d909d9ed51"
      },
      "execution_count": 18,
      "outputs": [
        {
          "output_type": "stream",
          "name": "stdout",
          "text": [
            "('A', 'b', 'c')\n"
          ]
        }
      ]
    },
    {
      "cell_type": "code",
      "source": [
        "# 77번 다음 튜플을 리스트로 변환하라.\n",
        "\n",
        "interest = ('삼성전자', 'LG전자', 'SK Hynix')\n",
        "\n",
        "data = list(interest)\n",
        "print(data)"
      ],
      "metadata": {
        "colab": {
          "base_uri": "https://localhost:8080/"
        },
        "id": "0ukHde8rQVqj",
        "outputId": "3249385d-4204-49d0-f11d-f16a4d9d044b"
      },
      "execution_count": 21,
      "outputs": [
        {
          "output_type": "stream",
          "name": "stdout",
          "text": [
            "['삼성전자', 'LG전자', 'SK Hynix']\n"
          ]
        }
      ]
    },
    {
      "cell_type": "code",
      "source": [
        "# 78번 다음 리스트를 튜플로 변경하라.\n",
        "\n",
        "interest = ['삼성전자', 'LG전자', 'SK Hynix']\n",
        "\n",
        "data2 = tuple(interest)\n",
        "print(data2)"
      ],
      "metadata": {
        "colab": {
          "base_uri": "https://localhost:8080/"
        },
        "id": "1I38x8hSQhJ7",
        "outputId": "1f97641c-4ce0-4801-ba5b-be4e43b77d67"
      },
      "execution_count": 22,
      "outputs": [
        {
          "output_type": "stream",
          "name": "stdout",
          "text": [
            "('삼성전자', 'LG전자', 'SK Hynix')\n"
          ]
        }
      ]
    },
    {
      "cell_type": "code",
      "source": [
        "# 79번 다음 코드의 실행 결과를 예상하라.\n",
        "\n",
        "temp = ('apple', 'banana', 'cake')\n",
        "a, b, c = temp\n",
        "print(a, b, c)\n"
      ],
      "metadata": {
        "colab": {
          "base_uri": "https://localhost:8080/"
        },
        "id": "SJmAFGtWQqh8",
        "outputId": "fdd5b081-a097-4c31-a0a5-77f399a3c99d"
      },
      "execution_count": 23,
      "outputs": [
        {
          "output_type": "stream",
          "name": "stdout",
          "text": [
            "apple banana cake\n"
          ]
        }
      ]
    },
    {
      "cell_type": "code",
      "source": [
        "fruit = ('pineapple', 'orange', 'peach')\n",
        "a, b, c = fruit\n",
        "print(a, b, c)"
      ],
      "metadata": {
        "colab": {
          "base_uri": "https://localhost:8080/"
        },
        "id": "bjYDqPtyQ7Mq",
        "outputId": "6dc6ebe7-1530-4f92-ef1f-41f41e8c914f"
      },
      "execution_count": 24,
      "outputs": [
        {
          "output_type": "stream",
          "name": "stdout",
          "text": [
            "pineapple orange peach\n"
          ]
        }
      ]
    },
    {
      "cell_type": "code",
      "source": [
        "# 80번 1 부터 99까지의 정수 중 짝수만 저장된 튜플을 생성하라.\n",
        "\n",
        "data = tuple(range(2, 100, 2))\n",
        "print(data)"
      ],
      "metadata": {
        "colab": {
          "base_uri": "https://localhost:8080/"
        },
        "id": "wekZySqVQ45S",
        "outputId": "92a99e7e-36ce-4bfe-a8b1-8129225db9c5"
      },
      "execution_count": 29,
      "outputs": [
        {
          "output_type": "stream",
          "name": "stdout",
          "text": [
            "(2, 4, 6, 8, 10, 12, 14, 16, 18, 20, 22, 24, 26, 28, 30, 32, 34, 36, 38, 40, 42, 44, 46, 48, 50, 52, 54, 56, 58, 60, 62, 64, 66, 68, 70, 72, 74, 76, 78, 80, 82, 84, 86, 88, 90, 92, 94, 96, 98)\n"
          ]
        }
      ]
    },
    {
      "cell_type": "markdown",
      "source": [
        "## 81번 ~ 100번 : 파이썬 딕셔너리\n",
        "* 파이썬 딕셔너리는 순서는 없지만 key와 value 형태로 데이터를 저장합니다. \n",
        "* 특히 key는 데이터의 레이블(label)을 지정하는 용도로 자주 사용됩니다."
      ],
      "metadata": {
        "id": "iYYJ3DuKSV2N"
      }
    },
    {
      "cell_type": "code",
      "source": [
        "# 81번 기본적으로 데이터 언패킹은 좌변의 변수와 우변 데이터 개수가 같아야 합니다. \n",
        "# 하지만 star expression을 사용하면 변수의 개수가 달라도 데이터 언패킹을 할 수 있습니다. \n",
        "# 튜플에 저장된 데이터 중에서 앞에 있는 두 개의 데이터만 필요할 경우 나머지 데이터의 언패킹 코드를 작성할 필요가 없습니다.\n",
        "\n",
        "'''\n",
        ">> a, b, *c = (0, 1, 2, 3, 4, 5)\n",
        ">> a\n",
        "0\n",
        ">> b\n",
        "1\n",
        ">> c\n",
        "[2, 3, 4, 5]\n",
        "'''\n",
        "\n",
        "# 다음과 같이 10개의 값이 저장된 scores 리스트가 있을 때, \n",
        "# start expression을 사용하여 좌측 8개의 값을 valid_score 변수에 바인딩하여라.\n",
        "\n",
        "scores = [8.8, 8.9, 8.7, 9.2, 9.3, 9.7, 9.9, 9.5, 7.8, 9.4]\n",
        "*valid_score, a, b = scores\n",
        "\n",
        "print(valid_score)"
      ],
      "metadata": {
        "colab": {
          "base_uri": "https://localhost:8080/"
        },
        "id": "v2NcneSmSgjy",
        "outputId": "ca104fbb-119e-4ea3-fb75-f709ef7bd75b"
      },
      "execution_count": 32,
      "outputs": [
        {
          "output_type": "stream",
          "name": "stdout",
          "text": [
            "[8.8, 8.9, 8.7, 9.2, 9.3, 9.7, 9.9, 9.5]\n"
          ]
        }
      ]
    },
    {
      "cell_type": "code",
      "source": [
        "# 82번 다음과 같이 10개의 값이 저장된 scores 리스트가 있을 때,\n",
        "# start expression을 사용하여 우측 8개의 값을 valid_score 변수에 바인딩하여라.\n",
        "\n",
        "scores = [8.8, 8.9, 8.7, 9.2, 9.3, 9.7, 9.9, 9.5, 7.8, 9.4]\n",
        "\n",
        "a, b, *valid_score = scores\n",
        "print(valid_score)"
      ],
      "metadata": {
        "colab": {
          "base_uri": "https://localhost:8080/"
        },
        "id": "f7Fxa_PdTcEa",
        "outputId": "13c8a53f-705b-40bc-a0c0-4147d0166aeb"
      },
      "execution_count": 1,
      "outputs": [
        {
          "output_type": "stream",
          "name": "stdout",
          "text": [
            "[8.7, 9.2, 9.3, 9.7, 9.9, 9.5, 7.8, 9.4]\n"
          ]
        }
      ]
    },
    {
      "cell_type": "code",
      "source": [
        "# 83번 다음과 같이 10개의 값이 저장된 scores 리스트가 있을 때, \n",
        "# start expression을 사용하여 가운데 있는 8개의 값을 valid_score 변수에 바인딩하여라.\n",
        "\n",
        "scores = [8.8, 8.9, 8.7, 9.2, 9.3, 9.7, 9.9, 9.5, 7.8, 9.4]\n",
        "\n",
        "a, *valid_score, b = scores\n",
        "print(valid_score)"
      ],
      "metadata": {
        "colab": {
          "base_uri": "https://localhost:8080/"
        },
        "id": "OyshJobcT6Ij",
        "outputId": "3a949941-5046-4d8b-cb70-f4197aa7ea95"
      },
      "execution_count": 3,
      "outputs": [
        {
          "output_type": "stream",
          "name": "stdout",
          "text": [
            "[8.9, 8.7, 9.2, 9.3, 9.7, 9.9, 9.5, 7.8]\n"
          ]
        }
      ]
    },
    {
      "cell_type": "code",
      "source": [
        "# 84번 temp 이름의 비어있는 딕셔너리를 만들라.\n",
        "\n",
        "temp ={}\n",
        "print(type(temp))"
      ],
      "metadata": {
        "colab": {
          "base_uri": "https://localhost:8080/"
        },
        "id": "NUHIza7EU8iY",
        "outputId": "bd15425e-d436-405b-b745-f8aec98806a8"
      },
      "execution_count": 5,
      "outputs": [
        {
          "output_type": "stream",
          "name": "stdout",
          "text": [
            "<class 'dict'>\n"
          ]
        }
      ]
    },
    {
      "cell_type": "code",
      "source": [
        "# 85번 다음 아이스크림 이름과 희망 가격을 딕셔너리로 구성하라.\n",
        "\n",
        "'''\n",
        "이름\t희망 가격\n",
        "메로나\t1000\n",
        "폴라포\t1200\n",
        "빵빠레\t1800\n",
        "'''\n",
        "\n",
        "ice_cream={'메로나':1000, '폴라포':1200, '빵빠레':1800}\n",
        "\n",
        "print(ice_cream)"
      ],
      "metadata": {
        "colab": {
          "base_uri": "https://localhost:8080/"
        },
        "id": "al4sJrgGXILa",
        "outputId": "ff87f6f6-638e-403b-b3e8-a1a09cff66c6"
      },
      "execution_count": 6,
      "outputs": [
        {
          "output_type": "stream",
          "name": "stdout",
          "text": [
            "{'메로나': 1000, '폴라포': 1200, '빵빠레': 1800}\n"
          ]
        }
      ]
    },
    {
      "cell_type": "code",
      "source": [
        "# 86번 085 번의 딕셔너리에 아래 아이스크림 가격정보를 추가하라.\n",
        "\n",
        "'''\n",
        "이름\t희망 가격\n",
        "죠스바\t1200\n",
        "월드콘\t1500\n",
        "'''\n",
        "\n",
        "ice_cream['죠스바'] = 1200\n",
        "ice_cream['월드콘'] = 1500\n",
        "\n",
        "print(ice_cream)"
      ],
      "metadata": {
        "colab": {
          "base_uri": "https://localhost:8080/"
        },
        "id": "gtke09H5YCXx",
        "outputId": "f35b4f32-3639-4e10-e531-33bea8721643"
      },
      "execution_count": 7,
      "outputs": [
        {
          "output_type": "stream",
          "name": "stdout",
          "text": [
            "{'메로나': 1000, '폴라포': 1200, '빵빠레': 1800, '죠스바': 1200, '월드콘': 1500}\n"
          ]
        }
      ]
    },
    {
      "cell_type": "code",
      "source": [
        "# 87번 다음 딕셔너리를 사용하여 메로나 가격을 출력하라.\n",
        "\n",
        "ice_cream = {'메로나': 1000, '폴라포': 1200, '빵빠레': 1800, '죠스바': 1200, '월드콘': 1500}\n",
        "\n",
        "print('메로나 가격:', ice_cream['메로나'])"
      ],
      "metadata": {
        "colab": {
          "base_uri": "https://localhost:8080/"
        },
        "id": "K-xfc_8VYasC",
        "outputId": "87ae36eb-e3fa-4b5c-ffcf-d84f17edde12"
      },
      "execution_count": 9,
      "outputs": [
        {
          "output_type": "stream",
          "name": "stdout",
          "text": [
            "메로나 가격: 1000\n"
          ]
        }
      ]
    },
    {
      "cell_type": "code",
      "source": [
        "# 88번 다음 딕셔너리에서 메로나의 가격을 1300으로 수정하라.\n",
        "\n",
        "ice_cream = {'메로나': 1000, '폴라포': 1200, '빵빠레': 1800, '죠스바': 1200, '월드콘': 1500}\n",
        "\n",
        "ice_cream['메로나'] = 1300\n",
        "print(ice_cream)"
      ],
      "metadata": {
        "colab": {
          "base_uri": "https://localhost:8080/"
        },
        "id": "qeydhVJYYyMa",
        "outputId": "a5e33595-9687-444a-eb5d-99bc84fccc62"
      },
      "execution_count": 10,
      "outputs": [
        {
          "output_type": "stream",
          "name": "stdout",
          "text": [
            "{'메로나': 1300, '폴라포': 1200, '빵빠레': 1800, '죠스바': 1200, '월드콘': 1500}\n"
          ]
        }
      ]
    },
    {
      "cell_type": "code",
      "source": [
        "# 89번 다음 딕셔너리에서 메로나를 삭제하라.\n",
        "\n",
        "ice_cream = {'메로나': 1000, '폴라포': 1200, '빵빠레': 1800, '죠스바': 1200, '월드콘': 1500}\n",
        "\n",
        "del ice_cream['메로나']\n",
        "print(ice_cream)"
      ],
      "metadata": {
        "colab": {
          "base_uri": "https://localhost:8080/"
        },
        "id": "yeg71TJVZeBS",
        "outputId": "490d2edd-0992-444a-8cac-bb711d180d37"
      },
      "execution_count": 15,
      "outputs": [
        {
          "output_type": "stream",
          "name": "stdout",
          "text": [
            "{'폴라포': 1200, '빵빠레': 1800, '죠스바': 1200, '월드콘': 1500}\n"
          ]
        }
      ]
    },
    {
      "cell_type": "code",
      "source": [
        "# 90번 다음 코드에서 에러가 발생한 원인을 설명하라.\n",
        "'''\n",
        ">> icecream = {'폴라포': 1200, '빵빠레': 1800, '월드콘': 1500, '메로나': 1000}\n",
        ">> icecream['누가바']\n",
        "Traceback (most recent call last):\n",
        "  File \"<pyshell#69>\", line 1, in <module>\n",
        "    icecream['누가바']\n",
        "KeyError: '누가바'\n",
        "'''\n",
        "\n",
        "# icecream 딕셔너리에 '누가바'라는 key 값이 존재하지 않음. 딕셔너리에 없는 키를 사용해서 인덱싱하면 에러가 발생함."
      ],
      "metadata": {
        "id": "B6LOsWNgaxpm"
      },
      "execution_count": null,
      "outputs": []
    },
    {
      "cell_type": "code",
      "source": [
        "# 91번 아래의 표에서, 아이스크림 이름을 키값으로, \n",
        "# (가격, 재고) 리스트를 딕셔너리의 값으로 저장하라. 딕셔너리의 이름은 inventory로 한다.\n",
        "\n",
        "'''\n",
        "이름\t    가격   재고\n",
        "메로나  \t300\t    20\n",
        "비비빅  \t400\t    3\n",
        "죠스바  \t250\t    100\n",
        "'''\n",
        "\n",
        "inventory = {'메로나':[300, 20], '비비빅':[400, 3], '죠스바':[250, 100]}\n",
        "print(inventory)"
      ],
      "metadata": {
        "colab": {
          "base_uri": "https://localhost:8080/"
        },
        "id": "v8YCV8iabGsw",
        "outputId": "f0036b46-3576-4a56-b9cc-a9ee6be38081"
      },
      "execution_count": 16,
      "outputs": [
        {
          "output_type": "stream",
          "name": "stdout",
          "text": [
            "{'메로나': [300, 20], '비비빅': [400, 3], '죠스바': [250, 100]}\n"
          ]
        }
      ]
    },
    {
      "cell_type": "code",
      "source": [
        "# 92번 inventory 딕셔너리에서 메로나의 가격을 화면에 출력하라.\n",
        "inventory = {'메로나':[300, 20], '비비빅':[400, 3], '죠스바':[250, 100]}\n",
        "\n",
        "print('메로나 가격:', inventory['메로나'][0], '원')"
      ],
      "metadata": {
        "colab": {
          "base_uri": "https://localhost:8080/"
        },
        "id": "afXihoujcZmg",
        "outputId": "c72e0f4e-e875-4831-ce67-a99a8b561a2a"
      },
      "execution_count": 20,
      "outputs": [
        {
          "output_type": "stream",
          "name": "stdout",
          "text": [
            "메로나 가격: 300 원\n"
          ]
        }
      ]
    },
    {
      "cell_type": "code",
      "source": [
        "# 93번 inventory 딕셔너리에서 메로나의 재고를 화면에 출력하라.\n",
        "inventory = {'메로나':[300, 20], '비비빅':[400, 3], '죠스바':[250, 100]}\n",
        "\n",
        "print('메로나 재고:', inventory['메로나'][1], '개')"
      ],
      "metadata": {
        "colab": {
          "base_uri": "https://localhost:8080/"
        },
        "id": "orgk_kNacuv4",
        "outputId": "ac3d6be4-1219-4748-b323-6a5c3423927b"
      },
      "execution_count": 22,
      "outputs": [
        {
          "output_type": "stream",
          "name": "stdout",
          "text": [
            "메로나 재고: 20 개\n"
          ]
        }
      ]
    },
    {
      "cell_type": "code",
      "source": [
        "# 94번 inventory 딕셔너리에 아래 데이터를 추가하라.\n",
        "inventory = {'메로나':[300, 20], '비비빅':[400, 3], '죠스바':[250, 100]}\n",
        "\n",
        "'''\n",
        "이름\t가격\t재고\n",
        "월드콘\t500  \t7\n",
        "'''\n",
        "inventory['월드콘'] = [500, 7]\n",
        "\n",
        "print(inventory)"
      ],
      "metadata": {
        "colab": {
          "base_uri": "https://localhost:8080/"
        },
        "id": "tzElBRMuc_0g",
        "outputId": "d6acd210-0cfe-4c69-dcf3-fe215a4fa3b7"
      },
      "execution_count": 23,
      "outputs": [
        {
          "output_type": "stream",
          "name": "stdout",
          "text": [
            "{'메로나': [300, 20], '비비빅': [400, 3], '죠스바': [250, 100], '월드콘': [500, 7]}\n"
          ]
        }
      ]
    },
    {
      "cell_type": "code",
      "source": [
        "# 95번 다음의 딕셔너리로부터 key 값으로만 구성된 리스트를 생성하라.\n",
        "\n",
        "icecream = {'탱크보이': 1200, '폴라포': 1200, '빵빠레': 1800, '월드콘': 1500, '메로나': 1000}\n",
        "\n",
        "ice = list(icecream.keys())\n",
        "print(ice)"
      ],
      "metadata": {
        "colab": {
          "base_uri": "https://localhost:8080/"
        },
        "id": "pnaeMakPdR1T",
        "outputId": "ee5fdae3-fa40-4abf-c186-2f6cdf033e35"
      },
      "execution_count": 25,
      "outputs": [
        {
          "output_type": "stream",
          "name": "stdout",
          "text": [
            "['탱크보이', '폴라포', '빵빠레', '월드콘', '메로나']\n"
          ]
        }
      ]
    },
    {
      "cell_type": "code",
      "source": [
        "# 96번 다음의 딕셔너리에서 values 값으로만 구성된 리스트를 생성하라.\n",
        "\n",
        "icecream = {'탱크보이': 1200, '폴라포': 1200, '빵빠레': 1800, '월드콘': 1500, '메로나': 1000}\n",
        "\n",
        "ice = list(icecream.values())\n",
        "print(ice)"
      ],
      "metadata": {
        "colab": {
          "base_uri": "https://localhost:8080/"
        },
        "id": "00J8F_uvdqow",
        "outputId": "c1934985-0401-4118-fe50-4347fe6a607e"
      },
      "execution_count": 26,
      "outputs": [
        {
          "output_type": "stream",
          "name": "stdout",
          "text": [
            "[1200, 1200, 1800, 1500, 1000]\n"
          ]
        }
      ]
    },
    {
      "cell_type": "code",
      "source": [
        "# 97번 icecream 딕셔너리에서 아이스크림 판매 금액의 총합을 출력하라.\n",
        "\n",
        "icecream = {'탱크보이': 1200, '폴라포': 1200, '빵빠레': 1800, '월드콘': 1500, '메로나': 1000}\n",
        "\n",
        "ice = list(icecream.values())\n",
        "print('아이스크림 판매 금액:', sum(ice), '원')"
      ],
      "metadata": {
        "colab": {
          "base_uri": "https://localhost:8080/"
        },
        "id": "qOFa__Nld14n",
        "outputId": "b567f785-dfc0-48d5-8e48-e97d5c36536c"
      },
      "execution_count": 29,
      "outputs": [
        {
          "output_type": "stream",
          "name": "stdout",
          "text": [
            "아이스크림 판매 금액: 6700 원\n"
          ]
        }
      ]
    },
    {
      "cell_type": "code",
      "source": [
        "# 98번 아래의 new_product 딕셔너리를 다음 icecream 딕셔너리에 추가하라.\n",
        "icecream = {'탱크보이': 1200, '폴라포': 1200, '빵빠레': 1800, '월드콘': 1500, '메로나': 1000}\n",
        "new_product = {'팥빙수':2700, '아맛나':1000}\n",
        "\n",
        "icecream.update(new_product)\n",
        "print(icecream)"
      ],
      "metadata": {
        "colab": {
          "base_uri": "https://localhost:8080/"
        },
        "id": "CUVWncsGeI_I",
        "outputId": "dab11b41-0947-4d5d-aecf-4ef1e9a3a934"
      },
      "execution_count": 30,
      "outputs": [
        {
          "output_type": "stream",
          "name": "stdout",
          "text": [
            "{'탱크보이': 1200, '폴라포': 1200, '빵빠레': 1800, '월드콘': 1500, '메로나': 1000, '팥빙수': 2700, '아맛나': 1000}\n"
          ]
        }
      ]
    },
    {
      "cell_type": "code",
      "source": [
        "# 99번 아래 두 개의 튜플을 하나의 딕셔너리로 변환하라. keys를 키로, vals를 값으로 result 이름의 딕셔너리로 저장한다.\n",
        "\n",
        "keys = (\"apple\", \"pear\", \"peach\")\n",
        "vals = (300, 250, 400)\n",
        "\n",
        "result = dict(zip(keys, vals))\n",
        "print(result)"
      ],
      "metadata": {
        "colab": {
          "base_uri": "https://localhost:8080/"
        },
        "id": "hdISXPbnecXf",
        "outputId": "1ba23935-265d-4405-881c-b18e960d9718"
      },
      "execution_count": 32,
      "outputs": [
        {
          "output_type": "stream",
          "name": "stdout",
          "text": [
            "{'apple': 300, 'pear': 250, 'peach': 400}\n"
          ]
        }
      ]
    },
    {
      "cell_type": "code",
      "source": [
        "# 100번 date와 close_price 두 개의 리스트를 close_table 이름의 딕셔너리로 생성하라.\n",
        "\n",
        "date = ['09/05', '09/06', '09/07', '09/08', '09/09']\n",
        "close_price = [10500, 10300, 10100, 10800, 11000]\n",
        "\n",
        "close_table = dict(zip(date, close_price))\n",
        "print(close_table)"
      ],
      "metadata": {
        "colab": {
          "base_uri": "https://localhost:8080/"
        },
        "id": "iXcz9dbUerXJ",
        "outputId": "39449da7-4811-41df-fcb5-7c263a8a5db1"
      },
      "execution_count": 34,
      "outputs": [
        {
          "output_type": "stream",
          "name": "stdout",
          "text": [
            "{'09/05': 10500, '09/06': 10300, '09/07': 10100, '09/08': 10800, '09/09': 11000}\n"
          ]
        }
      ]
    }
  ]
}