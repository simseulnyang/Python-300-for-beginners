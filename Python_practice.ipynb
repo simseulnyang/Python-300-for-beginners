{
  "nbformat": 4,
  "nbformat_minor": 0,
  "metadata": {
    "colab": {
      "provenance": [],
      "authorship_tag": "ABX9TyNW3W0LlPhKKSVZS1R38pVE",
      "include_colab_link": true
    },
    "kernelspec": {
      "name": "python3",
      "display_name": "Python 3"
    },
    "language_info": {
      "name": "python"
    }
  },
  "cells": [
    {
      "cell_type": "markdown",
      "metadata": {
        "id": "view-in-github",
        "colab_type": "text"
      },
      "source": [
        "<a href=\"https://colab.research.google.com/github/simseulnyang/Python-300-for-beginners/blob/main/Python_practice.ipynb\" target=\"_parent\"><img src=\"https://colab.research.google.com/assets/colab-badge.svg\" alt=\"Open In Colab\"/></a>"
      ]
    },
    {
      "cell_type": "markdown",
      "source": [
        "# 초보자를 위한 파이썬 300제\n"
      ],
      "metadata": {
        "id": "16ucXAVYsy0s"
      }
    },
    {
      "cell_type": "markdown",
      "source": [
        "## 1번 ~ 10번 : 파이썬 시작하기\n",
        "* print 함수와 관련된 문제를 풀어봅시다."
      ],
      "metadata": {
        "id": "yRM4zgzQv_hx"
      }
    },
    {
      "cell_type": "code",
      "source": [
        "# 1번 화면에 Hello World 문자열을 출력하세요\n",
        "\n",
        "print('Hello World')"
      ],
      "metadata": {
        "colab": {
          "base_uri": "https://localhost:8080/"
        },
        "id": "58ZuWSyfs7Nm",
        "outputId": "f9cdecd4-15a6-4f3b-f781-abb38da4131c"
      },
      "execution_count": 1,
      "outputs": [
        {
          "output_type": "stream",
          "name": "stdout",
          "text": [
            "Hello World\n"
          ]
        }
      ]
    },
    {
      "cell_type": "code",
      "source": [
        "# 2번 화면에 Mary's cosmetics을 출력하세요. (중간에 '가 있음에 주의하세요)\n",
        "\n",
        "print(\"Mary's cosmetics\")"
      ],
      "metadata": {
        "colab": {
          "base_uri": "https://localhost:8080/"
        },
        "id": "T5H8l5GNtJaN",
        "outputId": "02988435-abd7-4b6a-9d9d-7121f17ac31c"
      },
      "execution_count": 2,
      "outputs": [
        {
          "output_type": "stream",
          "name": "stdout",
          "text": [
            "Mary's cosmetics\n"
          ]
        }
      ]
    },
    {
      "cell_type": "code",
      "source": [
        "# 3번 화면에 아래 문장을 출력하세요. (중간에 \"가 있음에 주의하세요.)\n",
        "# 신씨가 소리질렀다. \"도둑이야\".\n",
        "\n",
        "print('신씨가 소리질렀다. \"도둑이야\".')"
      ],
      "metadata": {
        "colab": {
          "base_uri": "https://localhost:8080/"
        },
        "id": "BowU22-ttS4I",
        "outputId": "950d2832-69b5-4234-ba89-913bf900677a"
      },
      "execution_count": 3,
      "outputs": [
        {
          "output_type": "stream",
          "name": "stdout",
          "text": [
            "신씨가 소리질렀다. \"도둑이야\".\n"
          ]
        }
      ]
    },
    {
      "cell_type": "code",
      "source": [
        "# 4번 화면에 \"C:\\Windows\"를 출력하세요.\n",
        "\n",
        "print('\"C:\\Windows\"')"
      ],
      "metadata": {
        "colab": {
          "base_uri": "https://localhost:8080/"
        },
        "id": "CZXrUaQUtd-2",
        "outputId": "5ad8caed-2c26-4035-f9d8-d010ad4ad1f3"
      },
      "execution_count": 4,
      "outputs": [
        {
          "output_type": "stream",
          "name": "stdout",
          "text": [
            "\"C:\\Windows\"\n"
          ]
        }
      ]
    },
    {
      "cell_type": "code",
      "source": [
        " # 5번 다음 코드를 실행해보고 \\t와 \\n의 역할을 설명해보세요.\n",
        " # print(\"안녕하세요.\\n만나서\\t\\t반갑습니다.\")\n",
        "\n",
        " # \\n -> 줄바꿈\n",
        " # \\t -> tab"
      ],
      "metadata": {
        "id": "1LSy0qIwtuSd"
      },
      "execution_count": null,
      "outputs": []
    },
    {
      "cell_type": "code",
      "source": [
        "# 6번 print 함수에 두 개의 단어를 입력한 예제입니다. 아래 코드의 출력 결과를 예상해봅시다.\n",
        "# print (\"오늘은\", \"일요일\")\n",
        "\n",
        "print(\"오늘은\", \"일요일\") # 오늘은 다음에 공백이 하나 있고, 일요일이 출력됨"
      ],
      "metadata": {
        "colab": {
          "base_uri": "https://localhost:8080/"
        },
        "id": "Nhsl9haAt-wO",
        "outputId": "b5ef3feb-0655-4fff-a109-dd47fe0e1143"
      },
      "execution_count": 5,
      "outputs": [
        {
          "output_type": "stream",
          "name": "stdout",
          "text": [
            "오늘은 일요일\n"
          ]
        }
      ]
    },
    {
      "cell_type": "code",
      "source": [
        "# 7번 print() 함수를 사용하여 다음과 같이 출력하세요.\n",
        "# naver;kakao;sk;samsung\n",
        "\n",
        "print(('naver kakao sk samsung').replace(' ', ';'))\n",
        "\n",
        "#정답\n",
        "print('naver', 'kakao', 'sk', 'samsung', sep=';')"
      ],
      "metadata": {
        "colab": {
          "base_uri": "https://localhost:8080/"
        },
        "id": "h8qbPiARuRih",
        "outputId": "d1489ef4-9509-4e3c-dec5-698154ab3bb9"
      },
      "execution_count": 7,
      "outputs": [
        {
          "output_type": "stream",
          "name": "stdout",
          "text": [
            "naver;kakao;sk;samsung\n",
            "naver;kakao;sk;samsung\n"
          ]
        }
      ]
    },
    {
      "cell_type": "code",
      "source": [
        "# 8번 print() 함수를 사용하여 다음과 같이 출력하세요.\n",
        "# naver/kakao/sk/samsung\n",
        "\n",
        "print('naver', 'kakao', 'sk', 'samsung', sep='/')"
      ],
      "metadata": {
        "colab": {
          "base_uri": "https://localhost:8080/"
        },
        "id": "9ShfJEwAvLZm",
        "outputId": "c093b017-0c2b-435a-885a-72effcc1d97b"
      },
      "execution_count": 8,
      "outputs": [
        {
          "output_type": "stream",
          "name": "stdout",
          "text": [
            "naver/kakao/sk/samsung\n"
          ]
        }
      ]
    },
    {
      "cell_type": "code",
      "source": [
        "# 9번 다음 코드를 수정하여 줄바꿈이 없이 출력하세요. \n",
        "# (힌트: end='') print 함수는 두 번 사용합니다. \n",
        "#                세미콜론 (;)은 한줄에 여러 개의 명령을 작성하기 위해 사용합니다.\n",
        "#print(\"first\");print(\"second\")\n",
        "\n",
        "print(\"first\", end=' ');print(\"second\")"
      ],
      "metadata": {
        "colab": {
          "base_uri": "https://localhost:8080/"
        },
        "id": "9N0b5L_9vYrW",
        "outputId": "9d7d00d1-f9c1-4d9d-a911-79a424353410"
      },
      "execution_count": 12,
      "outputs": [
        {
          "output_type": "stream",
          "name": "stdout",
          "text": [
            "first second\n"
          ]
        }
      ]
    },
    {
      "cell_type": "code",
      "source": [
        "# 10번 5/3의 결과를 화면에 출력하세요.\n",
        "print(5/3)"
      ],
      "metadata": {
        "colab": {
          "base_uri": "https://localhost:8080/"
        },
        "id": "olLlHEBPv1E-",
        "outputId": "f835b25e-c036-45ef-e5f1-8ebfd425fcef"
      },
      "execution_count": 13,
      "outputs": [
        {
          "output_type": "stream",
          "name": "stdout",
          "text": [
            "1.6666666666666667\n"
          ]
        }
      ]
    },
    {
      "cell_type": "markdown",
      "source": [
        "## 11번 ~ 20번 : 파이썬 변수\n",
        "* 파이썬 변수는 자주 사용되는 값을 바인딩합니다. \n",
        "* 파이썬 변수의 개념을 이해하고 문제를 풀어봅시다."
      ],
      "metadata": {
        "id": "4Nulq3CgwLSV"
      }
    },
    {
      "cell_type": "code",
      "source": [
        "# 11번 삼성전자라는 변수로 50,000원을 바인딩해보세요. \n",
        "# 삼성전자 주식 10주를 보유하고 있을 때 총 평가금액을 출력하세요.\n",
        "\n",
        "삼성전자 = 50000\n",
        "보유주식 = 10\n",
        "총_평가금액 = 삼성전자 * 보유주식\n",
        "\n",
        "print(총_평가금액)"
      ],
      "metadata": {
        "colab": {
          "base_uri": "https://localhost:8080/"
        },
        "id": "ZafbF--rwSWG",
        "outputId": "27b86da4-93c4-40bc-90a9-a53b4bb429f1"
      },
      "execution_count": 14,
      "outputs": [
        {
          "output_type": "stream",
          "name": "stdout",
          "text": [
            "500000\n"
          ]
        }
      ]
    },
    {
      "cell_type": "code",
      "source": [
        "# 12번 변수를 사용해서 시가총액, 현재가, PER 등을 바인딩해보세요.\n",
        "\n",
        "시가총액 = 298000000000000\n",
        "현재가 = 50000\n",
        "PER = 15.79\n",
        "\n",
        "print(시가총액, type(시가총액))\n",
        "print(현재가, type(현재가))\n",
        "print(PER, type(PER))"
      ],
      "metadata": {
        "colab": {
          "base_uri": "https://localhost:8080/"
        },
        "id": "sT8BBRaWwaVv",
        "outputId": "022a7033-3cf2-4178-f6b0-9f5788b21c77"
      },
      "execution_count": 15,
      "outputs": [
        {
          "output_type": "stream",
          "name": "stdout",
          "text": [
            "298000000000000 <class 'int'>\n",
            "50000 <class 'int'>\n",
            "15.79 <class 'float'>\n"
          ]
        }
      ]
    },
    {
      "cell_type": "code",
      "source": [
        "# 13번 두 변수를 이용하여 아래와 같이 출력해보세요. (s = 'hello', t = 'python')\n",
        "# 실행 예: hello! python\n",
        "\n",
        "s = 'hello'\n",
        "t = 'python'\n",
        "\n",
        "print(s + '! ' + t)\n",
        "print(s + '!', t)"
      ],
      "metadata": {
        "colab": {
          "base_uri": "https://localhost:8080/"
        },
        "id": "32dyLnS9wad1",
        "outputId": "49ca966a-9480-4e3a-db55-e55a9cd3ef1a"
      },
      "execution_count": 21,
      "outputs": [
        {
          "output_type": "stream",
          "name": "stdout",
          "text": [
            "hello! python\n",
            "hello! python\n"
          ]
        }
      ]
    },
    {
      "cell_type": "code",
      "source": [
        "# 14번 아래 코드의 실행 결과를 예상해보세요.\n",
        "# >> 2 + 2 * 3 \n",
        "\n",
        "8"
      ],
      "metadata": {
        "colab": {
          "base_uri": "https://localhost:8080/"
        },
        "id": "x2FV2UV0wajZ",
        "outputId": "ef442d6b-346f-49f3-c092-a6be333d9310"
      },
      "execution_count": 22,
      "outputs": [
        {
          "output_type": "execute_result",
          "data": {
            "text/plain": [
              "8"
            ]
          },
          "metadata": {},
          "execution_count": 22
        }
      ]
    },
    {
      "cell_type": "code",
      "source": [
        "# 15번 type() 함수는 데이터 타입을 판별합니다. \n",
        "# 변수 a에는 128 숫자가 바인딩돼 있어 type 함수가 int (정수)형임을 알려줍니다.\n",
        "\n",
        "'''\n",
        ">> a = 128\n",
        ">> print (type(a))\n",
        "<class 'int'>\n",
        "'''\n",
        "\n",
        "# 아래 변수에 바인딩된 값의 타입을 판별해보세요.\n",
        "a = \"132\"\n",
        "\n",
        "print(type(a))"
      ],
      "metadata": {
        "colab": {
          "base_uri": "https://localhost:8080/"
        },
        "id": "W1a-gHUuwan7",
        "outputId": "94aaf500-2e87-43fe-99f8-a44583865510"
      },
      "execution_count": 23,
      "outputs": [
        {
          "output_type": "stream",
          "name": "stdout",
          "text": [
            "<class 'str'>\n"
          ]
        }
      ]
    },
    {
      "cell_type": "code",
      "source": [
        "# 16번"
      ],
      "metadata": {
        "id": "PSueQgrKwar8"
      },
      "execution_count": null,
      "outputs": []
    },
    {
      "cell_type": "code",
      "source": [
        "# 17번"
      ],
      "metadata": {
        "id": "Qa5BJiVdwavz"
      },
      "execution_count": null,
      "outputs": []
    },
    {
      "cell_type": "code",
      "source": [
        "# 18번"
      ],
      "metadata": {
        "id": "ZEXPU1_8way8"
      },
      "execution_count": null,
      "outputs": []
    },
    {
      "cell_type": "code",
      "source": [
        "# 19번"
      ],
      "metadata": {
        "id": "Tha8b4pgwa2F"
      },
      "execution_count": null,
      "outputs": []
    },
    {
      "cell_type": "code",
      "source": [
        "# 20번"
      ],
      "metadata": {
        "id": "rt57cNwFwa5V"
      },
      "execution_count": null,
      "outputs": []
    },
    {
      "cell_type": "code",
      "source": [
        "# 21번"
      ],
      "metadata": {
        "id": "SiGeFNLdwa8t"
      },
      "execution_count": null,
      "outputs": []
    }
  ]
}