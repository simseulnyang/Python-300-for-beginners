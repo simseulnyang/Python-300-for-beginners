{
  "nbformat": 4,
  "nbformat_minor": 0,
  "metadata": {
    "colab": {
      "provenance": [],
      "authorship_tag": "ABX9TyOGJiGsV30vUr8ZqqgIOkNT",
      "include_colab_link": true
    },
    "kernelspec": {
      "name": "python3",
      "display_name": "Python 3"
    },
    "language_info": {
      "name": "python"
    }
  },
  "cells": [
    {
      "cell_type": "markdown",
      "metadata": {
        "id": "view-in-github",
        "colab_type": "text"
      },
      "source": [
        "<a href=\"https://colab.research.google.com/github/simseulnyang/Python-300-for-beginners/blob/main/Python_practice_2.ipynb\" target=\"_parent\"><img src=\"https://colab.research.google.com/assets/colab-badge.svg\" alt=\"Open In Colab\"/></a>"
      ]
    },
    {
      "cell_type": "markdown",
      "source": [
        "# 초보자를 위한 파이썬 300제\n"
      ],
      "metadata": {
        "id": "-2C-gEOKgLe8"
      }
    },
    {
      "cell_type": "markdown",
      "source": [
        "## 101번 ~ 130번 : 파이썬 분기문\n",
        "* 파이썬은 if라는 키워드를 통해 분기문을 만들 수 있습니다."
      ],
      "metadata": {
        "id": "JhRbZNpCgUKP"
      }
    },
    {
      "cell_type": "code",
      "source": [
        "import math\n",
        "\n",
        "def solution(num1, num2):\n",
        "    answer = num1 / num2 * 1000\n",
        "    return math.trunc(answer)\n",
        "\n",
        "solution(3, 2)"
      ],
      "metadata": {
        "colab": {
          "base_uri": "https://localhost:8080/"
        },
        "id": "_JpI3BIbjkZw",
        "outputId": "eec83da3-3224-4678-85e7-4adcb7a2e398"
      },
      "execution_count": 18,
      "outputs": [
        {
          "output_type": "execute_result",
          "data": {
            "text/plain": [
              "1500"
            ]
          },
          "metadata": {},
          "execution_count": 18
        }
      ]
    },
    {
      "cell_type": "code",
      "source": [
        "# 101번 파이썬에서 True 혹은 False를 갖는 데이터 타입은 무엇인가?\n",
        "\n",
        "# 정답 : 'bool' 타입"
      ],
      "metadata": {
        "id": "84MR8niKgcFn"
      },
      "execution_count": null,
      "outputs": []
    },
    {
      "cell_type": "code",
      "source": [
        "# 102번 아래 코드의 출력 결과를 예상하라\n",
        "\n",
        "print(3 == 5)\n",
        "\n",
        "# False"
      ],
      "metadata": {
        "colab": {
          "base_uri": "https://localhost:8080/"
        },
        "id": "ro-g2052hI35",
        "outputId": "2fe6c65d-d496-4e09-e3ac-d4704e16d275"
      },
      "execution_count": null,
      "outputs": [
        {
          "output_type": "stream",
          "name": "stdout",
          "text": [
            "False\n"
          ]
        }
      ]
    },
    {
      "cell_type": "code",
      "source": [
        "# 103번 아래 코드의 출력 결과를 예상하라\n",
        "\n",
        "print(3 < 5)\n",
        "\n",
        "# True"
      ],
      "metadata": {
        "colab": {
          "base_uri": "https://localhost:8080/"
        },
        "id": "yM1zMeqshQ6L",
        "outputId": "142ec415-b637-4674-e2a5-3ff09160107d"
      },
      "execution_count": null,
      "outputs": [
        {
          "output_type": "stream",
          "name": "stdout",
          "text": [
            "True\n"
          ]
        }
      ]
    },
    {
      "cell_type": "code",
      "source": [
        "# 104번 아래 코드의 결과를 예상하라.\n",
        "\n",
        "x = 4\n",
        "print(1 < x < 5)\n",
        "\n",
        "# True"
      ],
      "metadata": {
        "colab": {
          "base_uri": "https://localhost:8080/"
        },
        "id": "bPhyvUGWhW32",
        "outputId": "e4c5dafc-a757-4a2e-9d31-c8081e98b0a5"
      },
      "execution_count": null,
      "outputs": [
        {
          "output_type": "stream",
          "name": "stdout",
          "text": [
            "True\n"
          ]
        }
      ]
    },
    {
      "cell_type": "code",
      "source": [
        "# 105번 아래 코드의 결과를 예상하라.\n",
        "\n",
        "print ((3 == 3) and (4 != 3))\n",
        "\n",
        "# True"
      ],
      "metadata": {
        "colab": {
          "base_uri": "https://localhost:8080/"
        },
        "id": "i9pMlILWheJh",
        "outputId": "f43ff879-bcab-4648-a90f-7d47c6843c04"
      },
      "execution_count": null,
      "outputs": [
        {
          "output_type": "stream",
          "name": "stdout",
          "text": [
            "True\n"
          ]
        }
      ]
    },
    {
      "cell_type": "code",
      "source": [
        "# 106번 아래 코드에서 에러가 발생하는 원인에 대해 설명하라.\n",
        "\n",
        "print(3 => 4)\n",
        "\n",
        "# 위의 연산자는 지원하지 않는 연산자이다."
      ],
      "metadata": {
        "id": "HQ3eYrtahjVO"
      },
      "execution_count": null,
      "outputs": []
    },
    {
      "cell_type": "code",
      "source": [
        "# 107번 아래 코드의 출력 결과를 예상하라\n",
        "\n",
        "if 4 < 3:\n",
        "    print(\"Hello World\")\n",
        "\n",
        "# 아무것도 출력되지 않는다. (조건을 만족하지 않기 때문)"
      ],
      "metadata": {
        "id": "DrJHKBGoh0f_"
      },
      "execution_count": null,
      "outputs": []
    },
    {
      "cell_type": "code",
      "source": [
        "# 108번 아래 코드의 출력 결과를 예상하라\n",
        "\n",
        "if 4 < 3:\n",
        "    print(\"Hello World.\")\n",
        "else:\n",
        "    print(\"Hi, there.\")\n",
        "\n",
        "# else에서 들여쓰기 된 문장 'Hi, there.'이 출력된다. (조건을 만족하지 않기 때문에 else에서 들여쓰기 된 문장이 실행됩니다.)"
      ],
      "metadata": {
        "colab": {
          "base_uri": "https://localhost:8080/"
        },
        "id": "IKioaT2bh8oX",
        "outputId": "0ad2338b-ec4d-4ca4-9fc9-3e4fb4fff4a0"
      },
      "execution_count": null,
      "outputs": [
        {
          "output_type": "stream",
          "name": "stdout",
          "text": [
            "Hi, there.\n"
          ]
        }
      ]
    },
    {
      "cell_type": "code",
      "source": [
        "# 109번 아래 코드의 출력 결과를 예상하라\n",
        "\n",
        "if True :\n",
        "    print (\"1\")\n",
        "    print (\"2\")\n",
        "else :\n",
        "    print(\"3\")\n",
        "print(\"4\")\n",
        "\n",
        "# if 조건이 'True'이기 때문에 if문에서 들여쓰기 한 값인 '1', '2' 그리고 '4'가 출력된다."
      ],
      "metadata": {
        "colab": {
          "base_uri": "https://localhost:8080/"
        },
        "id": "-4591DvHiJkm",
        "outputId": "937c156e-8a7f-41d4-d932-3499d535ca43"
      },
      "execution_count": null,
      "outputs": [
        {
          "output_type": "stream",
          "name": "stdout",
          "text": [
            "1\n",
            "2\n",
            "4\n"
          ]
        }
      ]
    },
    {
      "cell_type": "code",
      "source": [
        "# 110번 아래 코드의 출력 결과를 예상하라\n",
        "\n",
        "if True :\n",
        "    if False:\n",
        "        print(\"1\")\n",
        "        print(\"2\")\n",
        "    else:\n",
        "        print(\"3\")\n",
        "else :\n",
        "    print(\"4\")\n",
        "print(\"5\")\n",
        "\n",
        "# if문이 True 이면서 False 값을 출력해야 하기 때문에 '3' 과 '5'가 출력된다."
      ],
      "metadata": {
        "colab": {
          "base_uri": "https://localhost:8080/"
        },
        "id": "uyzQFpcDie42",
        "outputId": "1a19135b-5c3f-4b9b-8b6a-d9b8daf6c62a"
      },
      "execution_count": null,
      "outputs": [
        {
          "output_type": "stream",
          "name": "stdout",
          "text": [
            "3\n",
            "5\n"
          ]
        }
      ]
    },
    {
      "cell_type": "code",
      "source": [
        "# 111번 사용자로부터 입력받은 문자열을 두 번 출력하라. 아래는 사용자가 \"안녕하세요\"를 입력한 경우의 출력 결과이다.\n",
        "\n",
        "user = input('입력 : ')\n",
        "print(user * 2)"
      ],
      "metadata": {
        "id": "m2_sXLdoi8-f",
        "colab": {
          "base_uri": "https://localhost:8080/"
        },
        "outputId": "0a8f6d8a-6cd2-4010-c5c7-98c09b01de91"
      },
      "execution_count": 5,
      "outputs": [
        {
          "output_type": "stream",
          "name": "stdout",
          "text": [
            "입력 : 안녕하세요\n",
            "안녕하세요안녕하세요\n"
          ]
        }
      ]
    },
    {
      "cell_type": "code",
      "source": [
        "# 112번 사용자로부터 하나의 숫자를 입력받고, 입력 받은 숫자에 10을 더해 출력하라.\n",
        "\n",
        "nums = input('숫자를 입력하세요 : ')\n",
        "print(int(nums) + 10)"
      ],
      "metadata": {
        "colab": {
          "base_uri": "https://localhost:8080/"
        },
        "id": "pH4ABFm6ba1Q",
        "outputId": "564f4bf7-dcf6-411b-887c-2446d2c06f26"
      },
      "execution_count": 6,
      "outputs": [
        {
          "output_type": "stream",
          "name": "stdout",
          "text": [
            "숫자를 입력하세요 : 1\n",
            "11\n"
          ]
        }
      ]
    },
    {
      "cell_type": "code",
      "source": [
        "# 113번 사용자로부터 하나의 숫자를 입력 받고 짝수/홀수를 판별하라.\n",
        "\n",
        "nums = input('숫자를 입력하세요 : ')\n",
        "if int(nums) % 2 == 0:\n",
        "    print('짝수')\n",
        "else:\n",
        "    print('홀수')"
      ],
      "metadata": {
        "colab": {
          "base_uri": "https://localhost:8080/"
        },
        "id": "ksDT-s4GbuTY",
        "outputId": "1d3bc3cc-ec5f-4319-e8e4-f9afee88ebaa"
      },
      "execution_count": 8,
      "outputs": [
        {
          "output_type": "stream",
          "name": "stdout",
          "text": [
            "숫자를 입력하세요 : 53\n",
            "홀수\n"
          ]
        }
      ]
    },
    {
      "cell_type": "code",
      "source": [
        "# 114번 사용자로부터 값을 입력받은 후 해당 값에 20을 더한 값을 출력하라. \n",
        "# 단 사용자가 입력한 값과 20을 더한 계산 값이 255를 초과하는 경우 255를 출력해야 한다.\n",
        "\n",
        "user_input = input('입력:')\n",
        "if int(user_input) + 20 > 255:\n",
        "    print(255)\n",
        "else:\n",
        "    print(int(user_input) + 20)"
      ],
      "metadata": {
        "colab": {
          "base_uri": "https://localhost:8080/"
        },
        "id": "mEcgirXXb_DY",
        "outputId": "6015d583-b699-4b7c-b75d-de1bde372526"
      },
      "execution_count": 13,
      "outputs": [
        {
          "output_type": "stream",
          "name": "stdout",
          "text": [
            "입력:240\n",
            "255\n"
          ]
        }
      ]
    },
    {
      "cell_type": "code",
      "source": [
        "# 115번 사용자로부터 하나의 값을 입력받은 후 해당 값에 20을 뺀 값을 출력하라. 단 출력 값의 범위는 0~255이다. \n",
        "# 예를 들어 결괏값이 0보다 작은 값이되는 경우 0을 출력하고 255보다 큰 값이 되는 경우 255를 출력해야 한다.\n",
        "\n",
        "user_input = input('입력: ')\n",
        "num = int(user_input) - 20\n",
        "if num < 0:\n",
        "    print(0)\n",
        "elif num > 255:\n",
        "    print(255)\n",
        "else:\n",
        "    print(num)\n"
      ],
      "metadata": {
        "colab": {
          "base_uri": "https://localhost:8080/"
        },
        "id": "nc2TWkaab8z7",
        "outputId": "6f0b311f-eefe-4869-8c56-193d2364a2d2"
      },
      "execution_count": 23,
      "outputs": [
        {
          "output_type": "stream",
          "name": "stdout",
          "text": [
            "입력: 15\n",
            "0\n"
          ]
        }
      ]
    },
    {
      "cell_type": "code",
      "source": [
        "# 116번 사용자로부터 입력 받은 시간이 정각인지 판별하라.\n",
        "'''\n",
        ">> 현재시간:02:00\n",
        "정각 입니다.\n",
        ">> 현재시간:03:10\n",
        "정각이 아닙니다\n",
        "'''\n",
        "\n",
        "# user_time = input('현재시간: ')\n",
        "# time = user_time.split(':')\n",
        "# if time[1] == '0' or time[1] == '00':\n",
        "#     print('정각 입니다.')\n",
        "# else:\n",
        "#     print('정각이 아닙니다.')\n",
        "\n",
        "\n",
        "user_time = input('현재시간: ')\n",
        "if user_time[-2:] == '00' or user_time[-2:] == '0':\n",
        "    print('정각 입니다.')\n",
        "else:\n",
        "    print('정각이 아닙니다.')"
      ],
      "metadata": {
        "colab": {
          "base_uri": "https://localhost:8080/"
        },
        "id": "YErHNRPyfmB-",
        "outputId": "41192487-0d92-4d0a-8a3a-07bdfc0c7bb5"
      },
      "execution_count": 32,
      "outputs": [
        {
          "output_type": "stream",
          "name": "stdout",
          "text": [
            "현재시간: 5:00\n",
            "정각 입니다.\n"
          ]
        }
      ]
    },
    {
      "cell_type": "code",
      "source": [
        "# 117번 사용자로 입력받은 단어가 아래 fruit 리스트에 포함되어 있는지를 확인하라. \n",
        "# 포함되었다면 \"정답입니다\"를 아닐 경우 \"오답입니다\" 출력하라.\n",
        "\n",
        "fruit = [\"사과\", \"포도\", \"홍시\"]\n",
        "\n",
        "user_fruit = input('좋아하는 과일은? ')\n",
        "if user_fruit in fruit:\n",
        "    print('정답입니다.')\n",
        "else:\n",
        "    print('오답입니다.')"
      ],
      "metadata": {
        "colab": {
          "base_uri": "https://localhost:8080/"
        },
        "id": "cqN41H-uieDG",
        "outputId": "8cd573ea-4821-410d-ea5d-8f05408ea78d"
      },
      "execution_count": 37,
      "outputs": [
        {
          "output_type": "stream",
          "name": "stdout",
          "text": [
            "좋아하는 과일은? 바나나\n",
            "오답입니다.\n"
          ]
        }
      ]
    },
    {
      "cell_type": "code",
      "source": [
        "# 118번 투자 경고 종목 리스트가 있을 때 사용자로부터 종목명을 입력 받은 후 \n",
        "# 해당 종목이 투자 경고 종목이라면 '투자 경고 종목입니다'를 \n",
        "# 아니면 \"투자 경고 종목이 아닙니다.\"를 출력하는 프로그램을 작성하라.\n",
        "\n",
        "warn_investment_list = [\"Microsoft\", \"Google\", \"Naver\", \"Kakao\", \"SAMSUNG\", \"LG\"]\n",
        "\n",
        "user_investment = input('투자 종목: ')\n",
        "if user_investment in warn_investment_list:\n",
        "    print('투자 경고 종목입니다.')\n",
        "else:\n",
        "    print('투자 경고 종목이 아닙니다.')"
      ],
      "metadata": {
        "colab": {
          "base_uri": "https://localhost:8080/"
        },
        "id": "0HyrCd3KjYQt",
        "outputId": "83ea8590-2eb8-48d2-f583-d145054070ee"
      },
      "execution_count": 39,
      "outputs": [
        {
          "output_type": "stream",
          "name": "stdout",
          "text": [
            "투자 종목: ESTsoft\n",
            "투자 경고 종목이 아닙니다.\n"
          ]
        }
      ]
    },
    {
      "cell_type": "code",
      "source": [
        "# 119번 아래와 같이 fruit 딕셔너리가 정의되어 있다. \n",
        "# 사용자가 입력한 값이 딕셔너리 키 (key) 값에 포함되었다면 \"정답입니다\"를 아닐 경우 \"오답입니다\" 출력하라.\n",
        "\n",
        "fruit = {\"봄\" : \"딸기\", \"여름\" : \"토마토\", \"가을\" : \"사과\"}\n",
        "\n",
        "user_fruit = input('제가 좋아하는 계절은: ')\n",
        "if user_fruit in fruit:\n",
        "    print('정답입니다.')\n",
        "else:\n",
        "    print('오답입니다.')"
      ],
      "metadata": {
        "colab": {
          "base_uri": "https://localhost:8080/"
        },
        "id": "ctEFHymBncXp",
        "outputId": "2dfc70f6-8528-49e5-9df7-0f1ac05aa0ae"
      },
      "execution_count": 42,
      "outputs": [
        {
          "output_type": "stream",
          "name": "stdout",
          "text": [
            "제가 좋아하는 계절은: 겨울\n",
            "오답입니다.\n"
          ]
        }
      ]
    },
    {
      "cell_type": "code",
      "source": [
        "# 120번 아래와 같이 fruit 딕셔너리가 정의되어 있다.\n",
        "# 사용자가 입력한 값이 딕셔너리 값 (value)에 포함되었다면 \"정답입니다\"를 아닐 경우 \"오답입니다\" 출력하라.\n",
        "\n",
        "fruit = {\"봄\" : \"딸기\", \"여름\" : \"토마토\", \"가을\" : \"사과\"}\n",
        "\n",
        "user_fruit = input('제가 좋아하는 과일은: ')\n",
        "if user_fruit in fruit.values():\n",
        "    print('정답입니다.')\n",
        "else:\n",
        "    print('오답입니다.')"
      ],
      "metadata": {
        "colab": {
          "base_uri": "https://localhost:8080/"
        },
        "id": "isqPyGiiqe3v",
        "outputId": "939e6afa-5501-4d93-e3d8-7c493fedff91"
      },
      "execution_count": 44,
      "outputs": [
        {
          "output_type": "stream",
          "name": "stdout",
          "text": [
            "제가 좋아하는 과일은: 딸기\n",
            "정답입니다.\n"
          ]
        }
      ]
    },
    {
      "cell_type": "code",
      "source": [
        "# 121번 사용자로부터 문자 한 개를 입력 받고, 소문자일 경우 대문자로, 대문자 일 경우, 소문자로 변경해서 출력하라.\n",
        "\n",
        "user_alpha = input('입력: ')\n",
        "if user_alpha.islower():\n",
        "    print(user_alpha.upper())\n",
        "else:\n",
        "    print(user_alpha.lower())"
      ],
      "metadata": {
        "colab": {
          "base_uri": "https://localhost:8080/"
        },
        "id": "HqVrfPmorLvl",
        "outputId": "dbadef8d-d5b8-4977-8e66-55c4bda04c30"
      },
      "execution_count": 49,
      "outputs": [
        {
          "output_type": "stream",
          "name": "stdout",
          "text": [
            "입력: c\n",
            "C\n"
          ]
        }
      ]
    },
    {
      "cell_type": "code",
      "source": [
        "# 122번 점수 구간에 해당하는 학점이 아래와 같이 정의되어 있다. 사용자로부터 score를 입력받아 학점을 출력하라.\n",
        "'''\n",
        "점수\t학점\n",
        "81~100\tA\n",
        "61~80\tB\n",
        "41~60\tC\n",
        "21~40\tD\n",
        "0~20\tE\n",
        "'''\n",
        "\n",
        "# lv0\n",
        "user_score = int(input('score: '))\n",
        "if user_score >= 81:\n",
        "    print('grade is A')\n",
        "elif user_score >= 61:\n",
        "    print('grade is B')\n",
        "elif user_score >= 41:\n",
        "    print('grade is C')\n",
        "elif user_score >= 21:\n",
        "    print('grade is D')\n",
        "else:\n",
        "    print('grade is E')\n",
        "\n"
      ],
      "metadata": {
        "colab": {
          "base_uri": "https://localhost:8080/"
        },
        "id": "I-PpBcf8sipB",
        "outputId": "4007c4d2-e0ce-46d4-b29e-787c65b3e304"
      },
      "execution_count": 52,
      "outputs": [
        {
          "output_type": "stream",
          "name": "stdout",
          "text": [
            "score: 20\n",
            "grade is E\n"
          ]
        }
      ]
    },
    {
      "cell_type": "code",
      "source": [
        "# 123번 사용자로부터 달러, 엔, 유로, 또는 위안 금액을 입력받은 후 이를 원으로 변환하는 프로그램을 작성하라.\n",
        "# 각 통화별 환율은 다음과 같다.\n",
        "# 사용자는 100 달러, 1000 엔, 13 유로, 100 위안과 같이 금액과 통화명 사이에 공백을 넣어 입력한다고 가정한다.\n",
        "\n",
        "exchange_rate = {\"달러\":1167, \"엔\":1.096, \"유로\":1268, \"위안\":171}\n",
        "\n",
        "user_exchange = input('입력 :')\n",
        "# money = float(user_exchange.split(' ')[0])\n",
        "# rate_name = user_exchange.split(' ')[1]\n",
        "money, rate_name = user_exchange.split()\n",
        "\n",
        "if rate_name in exchange_rate:\n",
        "    print('환전금액:', float(money) * exchange_rate[rate_name],'원')"
      ],
      "metadata": {
        "colab": {
          "base_uri": "https://localhost:8080/"
        },
        "id": "aKV5CNwvse6h",
        "outputId": "d7907bfd-74f6-4b15-eb9b-34686197a2bf"
      },
      "execution_count": 64,
      "outputs": [
        {
          "output_type": "stream",
          "name": "stdout",
          "text": [
            "입력 :10 달러\n",
            "환전금액: 11670.0 원\n"
          ]
        }
      ]
    },
    {
      "cell_type": "code",
      "source": [
        "# 124번 사용자로부터 세 개의 숫자를 입력 받은 후 가장 큰 숫자를 출력하라.\n",
        "\n",
        "num1 = int(input('number1 :'))\n",
        "num2 = int(input('number2 :'))\n",
        "num3 = int(input('number3 :'))\n",
        "\n",
        "total_num = [num1, num2, num3]\n",
        "max_num = max(total_num)\n",
        "print('가장 큰 수는:', max_num)"
      ],
      "metadata": {
        "colab": {
          "base_uri": "https://localhost:8080/"
        },
        "id": "Q3ES_Pp5shMM",
        "outputId": "8c32b567-ad17-4538-c1b5-227e754a1b8c"
      },
      "execution_count": 71,
      "outputs": [
        {
          "output_type": "stream",
          "name": "stdout",
          "text": [
            "number1 :1\n",
            "number2 :1\n",
            "number3 :5\n",
            "가장 큰 수는: 5\n"
          ]
        }
      ]
    },
    {
      "cell_type": "code",
      "source": [
        "# 125번 휴대폰 번호 앞자리에 따라 통신사는 아래와 같이 구분된다.\n",
        "# 사용자로부터 휴대전화 번호를 입력 받고, 통신사를 출력하는 프로그램을 작성하라.\n",
        "\n",
        "통신사 = {'011':'SKT', '016':'KT', '019':'LGU', '010':'알수없음'}\n",
        "\n",
        "user_phone = input('휴대폰 번호 입력: ')\n",
        "if user_phone[:3] in 통신사:\n",
        "    a = user_phone[:3]\n",
        "    print('당신은', 통신사[a], '사용자입니다.')"
      ],
      "metadata": {
        "colab": {
          "base_uri": "https://localhost:8080/"
        },
        "id": "WF1YNS3JsZa3",
        "outputId": "b0f77a68-8832-495f-83e0-097062977d63"
      },
      "execution_count": 80,
      "outputs": [
        {
          "output_type": "stream",
          "name": "stdout",
          "text": [
            "휴대폰 번호 입력: 019-5747-4565\n",
            "당신은 LGU 사용자입니다.\n"
          ]
        }
      ]
    },
    {
      "cell_type": "code",
      "source": [
        "# 126번 우편번호는 5자리로 구성되는데, 앞의 세자리는 구를 나타낸다. 예를들어, 강북구의 경우 010, 011, 012 세 자리로 시작한다."
      ],
      "metadata": {
        "id": "ToN61Qq6Eqc1"
      },
      "execution_count": null,
      "outputs": []
    }
  ]
}