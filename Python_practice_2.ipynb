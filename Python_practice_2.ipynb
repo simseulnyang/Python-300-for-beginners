{
  "nbformat": 4,
  "nbformat_minor": 0,
  "metadata": {
    "colab": {
      "provenance": [],
      "authorship_tag": "ABX9TyMb/63E0fP3GIyh2ont3Ojo",
      "include_colab_link": true
    },
    "kernelspec": {
      "name": "python3",
      "display_name": "Python 3"
    },
    "language_info": {
      "name": "python"
    }
  },
  "cells": [
    {
      "cell_type": "markdown",
      "metadata": {
        "id": "view-in-github",
        "colab_type": "text"
      },
      "source": [
        "<a href=\"https://colab.research.google.com/github/simseulnyang/Python-300-for-beginners/blob/main/Python_practice_2.ipynb\" target=\"_parent\"><img src=\"https://colab.research.google.com/assets/colab-badge.svg\" alt=\"Open In Colab\"/></a>"
      ]
    },
    {
      "cell_type": "markdown",
      "source": [
        "# 초보자를 위한 파이썬 300제\n"
      ],
      "metadata": {
        "id": "-2C-gEOKgLe8"
      }
    },
    {
      "cell_type": "markdown",
      "source": [
        "## 101번 ~ 130번 : 파이썬 분기문\n",
        "* 파이썬은 if라는 키워드를 통해 분기문을 만들 수 있습니다."
      ],
      "metadata": {
        "id": "JhRbZNpCgUKP"
      }
    },
    {
      "cell_type": "code",
      "source": [
        "# 101번 파이썬에서 True 혹은 False를 갖는 데이터 타입은 무엇인가?\n",
        "\n",
        "# 정답 : 'bool' 타입"
      ],
      "metadata": {
        "id": "84MR8niKgcFn"
      },
      "execution_count": null,
      "outputs": []
    },
    {
      "cell_type": "code",
      "source": [
        "# 102번 아래 코드의 출력 결과를 예상하라\n",
        "\n",
        "print(3 == 5)\n",
        "\n",
        "# False"
      ],
      "metadata": {
        "colab": {
          "base_uri": "https://localhost:8080/"
        },
        "id": "ro-g2052hI35",
        "outputId": "2fe6c65d-d496-4e09-e3ac-d4704e16d275"
      },
      "execution_count": 1,
      "outputs": [
        {
          "output_type": "stream",
          "name": "stdout",
          "text": [
            "False\n"
          ]
        }
      ]
    },
    {
      "cell_type": "code",
      "source": [
        "# 103번 아래 코드의 출력 결과를 예상하라\n",
        "\n",
        "print(3 < 5)\n",
        "\n",
        "# True"
      ],
      "metadata": {
        "colab": {
          "base_uri": "https://localhost:8080/"
        },
        "id": "yM1zMeqshQ6L",
        "outputId": "142ec415-b637-4674-e2a5-3ff09160107d"
      },
      "execution_count": 2,
      "outputs": [
        {
          "output_type": "stream",
          "name": "stdout",
          "text": [
            "True\n"
          ]
        }
      ]
    },
    {
      "cell_type": "code",
      "source": [
        "# 104번 아래 코드의 결과를 예상하라.\n",
        "\n",
        "x = 4\n",
        "print(1 < x < 5)\n",
        "\n",
        "# True"
      ],
      "metadata": {
        "colab": {
          "base_uri": "https://localhost:8080/"
        },
        "id": "bPhyvUGWhW32",
        "outputId": "e4c5dafc-a757-4a2e-9d31-c8081e98b0a5"
      },
      "execution_count": 3,
      "outputs": [
        {
          "output_type": "stream",
          "name": "stdout",
          "text": [
            "True\n"
          ]
        }
      ]
    },
    {
      "cell_type": "code",
      "source": [
        "# 105번 아래 코드의 결과를 예상하라.\n",
        "\n",
        "print ((3 == 3) and (4 != 3))\n",
        "\n",
        "# True"
      ],
      "metadata": {
        "colab": {
          "base_uri": "https://localhost:8080/"
        },
        "id": "i9pMlILWheJh",
        "outputId": "f43ff879-bcab-4648-a90f-7d47c6843c04"
      },
      "execution_count": 4,
      "outputs": [
        {
          "output_type": "stream",
          "name": "stdout",
          "text": [
            "True\n"
          ]
        }
      ]
    },
    {
      "cell_type": "code",
      "source": [
        "# 106번 아래 코드에서 에러가 발생하는 원인에 대해 설명하라.\n",
        "\n",
        "print(3 => 4)\n",
        "\n",
        "# 위의 연산자는 지원하지 않는 연산자이다."
      ],
      "metadata": {
        "id": "HQ3eYrtahjVO"
      },
      "execution_count": null,
      "outputs": []
    },
    {
      "cell_type": "code",
      "source": [
        "# 107번 아래 코드의 출력 결과를 예상하라\n",
        "\n",
        "if 4 < 3:\n",
        "    print(\"Hello World\")\n",
        "\n",
        "# 아무것도 출력되지 않는다. (조건을 만족하지 않기 때문)"
      ],
      "metadata": {
        "id": "DrJHKBGoh0f_"
      },
      "execution_count": 6,
      "outputs": []
    },
    {
      "cell_type": "code",
      "source": [
        "# 108번 아래 코드의 출력 결과를 예상하라\n",
        "\n",
        "if 4 < 3:\n",
        "    print(\"Hello World.\")\n",
        "else:\n",
        "    print(\"Hi, there.\")\n",
        "\n",
        "# else에서 들여쓰기 된 문장 'Hi, there.'이 출력된다. (조건을 만족하지 않기 때문에 else에서 들여쓰기 된 문장이 실행됩니다.)"
      ],
      "metadata": {
        "colab": {
          "base_uri": "https://localhost:8080/"
        },
        "id": "IKioaT2bh8oX",
        "outputId": "0ad2338b-ec4d-4ca4-9fc9-3e4fb4fff4a0"
      },
      "execution_count": 7,
      "outputs": [
        {
          "output_type": "stream",
          "name": "stdout",
          "text": [
            "Hi, there.\n"
          ]
        }
      ]
    },
    {
      "cell_type": "code",
      "source": [
        "# 109번 아래 코드의 출력 결과를 예상하라\n",
        "\n",
        "if True :\n",
        "    print (\"1\")\n",
        "    print (\"2\")\n",
        "else :\n",
        "    print(\"3\")\n",
        "print(\"4\")\n",
        "\n",
        "# if 조건이 'True'이기 때문에 if문에서 들여쓰기 한 값인 '1', '2' 그리고 '4'가 출력된다."
      ],
      "metadata": {
        "colab": {
          "base_uri": "https://localhost:8080/"
        },
        "id": "-4591DvHiJkm",
        "outputId": "937c156e-8a7f-41d4-d932-3499d535ca43"
      },
      "execution_count": 8,
      "outputs": [
        {
          "output_type": "stream",
          "name": "stdout",
          "text": [
            "1\n",
            "2\n",
            "4\n"
          ]
        }
      ]
    },
    {
      "cell_type": "code",
      "source": [
        "# 110번 아래 코드의 출력 결과를 예상하라\n",
        "\n",
        "if True :\n",
        "    if False:\n",
        "        print(\"1\")\n",
        "        print(\"2\")\n",
        "    else:\n",
        "        print(\"3\")\n",
        "else :\n",
        "    print(\"4\")\n",
        "print(\"5\")\n",
        "\n",
        "# if문이 True 이면서 False 값을 출력해야 하기 때문에 '3' 과 '5'가 출력된다."
      ],
      "metadata": {
        "colab": {
          "base_uri": "https://localhost:8080/"
        },
        "id": "uyzQFpcDie42",
        "outputId": "1a19135b-5c3f-4b9b-8b6a-d9b8daf6c62a"
      },
      "execution_count": 9,
      "outputs": [
        {
          "output_type": "stream",
          "name": "stdout",
          "text": [
            "3\n",
            "5\n"
          ]
        }
      ]
    }
  ]
}